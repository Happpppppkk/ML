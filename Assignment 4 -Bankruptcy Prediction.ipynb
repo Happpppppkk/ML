{
 "cells": [
  {
   "cell_type": "markdown",
   "id": "1e5f75dc",
   "metadata": {},
   "source": [
    "# Module 4\n",
    "Bankruptcy Prediction:\n",
    "1 EDA\n",
    "2 Model building\n",
    "2-1 Logistic Regression Model\n",
    "2-2 SVM \n",
    "2-3 Naive Bayes Model"
   ]
  },
  {
   "cell_type": "code",
   "execution_count": 188,
   "id": "54e59301",
   "metadata": {},
   "outputs": [],
   "source": [
    "import pandas as pd\n",
    "import numpy as np\n",
    "import matplotlib.pyplot as plt\n",
    "import seaborn as sns\n",
    "from sklearn.linear_model import LogisticRegression\n",
    "from sklearn.model_selection import train_test_split\n",
    "from IPython.core.interactiveshell import InteractiveShell \n",
    "InteractiveShell.ast_node_interactivity = \"all\""
   ]
  },
  {
   "cell_type": "markdown",
   "id": "d88fa150",
   "metadata": {},
   "source": [
    "### Ingest"
   ]
  },
  {
   "cell_type": "code",
   "execution_count": 189,
   "id": "795c632c",
   "metadata": {},
   "outputs": [
    {
     "data": {
      "text/html": [
       "<div>\n",
       "<style scoped>\n",
       "    .dataframe tbody tr th:only-of-type {\n",
       "        vertical-align: middle;\n",
       "    }\n",
       "\n",
       "    .dataframe tbody tr th {\n",
       "        vertical-align: top;\n",
       "    }\n",
       "\n",
       "    .dataframe thead th {\n",
       "        text-align: right;\n",
       "    }\n",
       "</style>\n",
       "<table border=\"1\" class=\"dataframe\">\n",
       "  <thead>\n",
       "    <tr style=\"text-align: right;\">\n",
       "      <th></th>\n",
       "      <th>Bankrupt?</th>\n",
       "      <th>ROA(C) before interest and depreciation before interest</th>\n",
       "      <th>ROA(A) before interest and % after tax</th>\n",
       "      <th>ROA(B) before interest and depreciation after tax</th>\n",
       "      <th>Operating Gross Margin</th>\n",
       "      <th>Realized Sales Gross Margin</th>\n",
       "      <th>Operating Profit Rate</th>\n",
       "      <th>Pre-tax net Interest Rate</th>\n",
       "      <th>After-tax net Interest Rate</th>\n",
       "      <th>Non-industry income and expenditure/revenue</th>\n",
       "      <th>...</th>\n",
       "      <th>Net Income to Total Assets</th>\n",
       "      <th>Total assets to GNP price</th>\n",
       "      <th>No-credit Interval</th>\n",
       "      <th>Gross Profit to Sales</th>\n",
       "      <th>Net Income to Stockholder's Equity</th>\n",
       "      <th>Liability to Equity</th>\n",
       "      <th>Degree of Financial Leverage (DFL)</th>\n",
       "      <th>Interest Coverage Ratio (Interest expense to EBIT)</th>\n",
       "      <th>Net Income Flag</th>\n",
       "      <th>Equity to Liability</th>\n",
       "    </tr>\n",
       "  </thead>\n",
       "  <tbody>\n",
       "    <tr>\n",
       "      <th>0</th>\n",
       "      <td>1</td>\n",
       "      <td>0.370594</td>\n",
       "      <td>0.424389</td>\n",
       "      <td>0.405750</td>\n",
       "      <td>0.601457</td>\n",
       "      <td>0.601457</td>\n",
       "      <td>0.998969</td>\n",
       "      <td>0.796887</td>\n",
       "      <td>0.808809</td>\n",
       "      <td>0.302646</td>\n",
       "      <td>...</td>\n",
       "      <td>0.716845</td>\n",
       "      <td>0.009219</td>\n",
       "      <td>0.622879</td>\n",
       "      <td>0.601453</td>\n",
       "      <td>0.827890</td>\n",
       "      <td>0.290202</td>\n",
       "      <td>0.026601</td>\n",
       "      <td>0.564050</td>\n",
       "      <td>1</td>\n",
       "      <td>0.016469</td>\n",
       "    </tr>\n",
       "    <tr>\n",
       "      <th>1</th>\n",
       "      <td>1</td>\n",
       "      <td>0.464291</td>\n",
       "      <td>0.538214</td>\n",
       "      <td>0.516730</td>\n",
       "      <td>0.610235</td>\n",
       "      <td>0.610235</td>\n",
       "      <td>0.998946</td>\n",
       "      <td>0.797380</td>\n",
       "      <td>0.809301</td>\n",
       "      <td>0.303556</td>\n",
       "      <td>...</td>\n",
       "      <td>0.795297</td>\n",
       "      <td>0.008323</td>\n",
       "      <td>0.623652</td>\n",
       "      <td>0.610237</td>\n",
       "      <td>0.839969</td>\n",
       "      <td>0.283846</td>\n",
       "      <td>0.264577</td>\n",
       "      <td>0.570175</td>\n",
       "      <td>1</td>\n",
       "      <td>0.020794</td>\n",
       "    </tr>\n",
       "    <tr>\n",
       "      <th>2</th>\n",
       "      <td>1</td>\n",
       "      <td>0.426071</td>\n",
       "      <td>0.499019</td>\n",
       "      <td>0.472295</td>\n",
       "      <td>0.601450</td>\n",
       "      <td>0.601364</td>\n",
       "      <td>0.998857</td>\n",
       "      <td>0.796403</td>\n",
       "      <td>0.808388</td>\n",
       "      <td>0.302035</td>\n",
       "      <td>...</td>\n",
       "      <td>0.774670</td>\n",
       "      <td>0.040003</td>\n",
       "      <td>0.623841</td>\n",
       "      <td>0.601449</td>\n",
       "      <td>0.836774</td>\n",
       "      <td>0.290189</td>\n",
       "      <td>0.026555</td>\n",
       "      <td>0.563706</td>\n",
       "      <td>1</td>\n",
       "      <td>0.016474</td>\n",
       "    </tr>\n",
       "    <tr>\n",
       "      <th>3</th>\n",
       "      <td>1</td>\n",
       "      <td>0.399844</td>\n",
       "      <td>0.451265</td>\n",
       "      <td>0.457733</td>\n",
       "      <td>0.583541</td>\n",
       "      <td>0.583541</td>\n",
       "      <td>0.998700</td>\n",
       "      <td>0.796967</td>\n",
       "      <td>0.808966</td>\n",
       "      <td>0.303350</td>\n",
       "      <td>...</td>\n",
       "      <td>0.739555</td>\n",
       "      <td>0.003252</td>\n",
       "      <td>0.622929</td>\n",
       "      <td>0.583538</td>\n",
       "      <td>0.834697</td>\n",
       "      <td>0.281721</td>\n",
       "      <td>0.026697</td>\n",
       "      <td>0.564663</td>\n",
       "      <td>1</td>\n",
       "      <td>0.023982</td>\n",
       "    </tr>\n",
       "    <tr>\n",
       "      <th>4</th>\n",
       "      <td>1</td>\n",
       "      <td>0.465022</td>\n",
       "      <td>0.538432</td>\n",
       "      <td>0.522298</td>\n",
       "      <td>0.598783</td>\n",
       "      <td>0.598783</td>\n",
       "      <td>0.998973</td>\n",
       "      <td>0.797366</td>\n",
       "      <td>0.809304</td>\n",
       "      <td>0.303475</td>\n",
       "      <td>...</td>\n",
       "      <td>0.795016</td>\n",
       "      <td>0.003878</td>\n",
       "      <td>0.623521</td>\n",
       "      <td>0.598782</td>\n",
       "      <td>0.839973</td>\n",
       "      <td>0.278514</td>\n",
       "      <td>0.024752</td>\n",
       "      <td>0.575617</td>\n",
       "      <td>1</td>\n",
       "      <td>0.035490</td>\n",
       "    </tr>\n",
       "  </tbody>\n",
       "</table>\n",
       "<p>5 rows × 96 columns</p>\n",
       "</div>"
      ],
      "text/plain": [
       "   Bankrupt?   ROA(C) before interest and depreciation before interest  \\\n",
       "0          1                                           0.370594          \n",
       "1          1                                           0.464291          \n",
       "2          1                                           0.426071          \n",
       "3          1                                           0.399844          \n",
       "4          1                                           0.465022          \n",
       "\n",
       "    ROA(A) before interest and % after tax  \\\n",
       "0                                 0.424389   \n",
       "1                                 0.538214   \n",
       "2                                 0.499019   \n",
       "3                                 0.451265   \n",
       "4                                 0.538432   \n",
       "\n",
       "    ROA(B) before interest and depreciation after tax  \\\n",
       "0                                           0.405750    \n",
       "1                                           0.516730    \n",
       "2                                           0.472295    \n",
       "3                                           0.457733    \n",
       "4                                           0.522298    \n",
       "\n",
       "    Operating Gross Margin   Realized Sales Gross Margin  \\\n",
       "0                 0.601457                      0.601457   \n",
       "1                 0.610235                      0.610235   \n",
       "2                 0.601450                      0.601364   \n",
       "3                 0.583541                      0.583541   \n",
       "4                 0.598783                      0.598783   \n",
       "\n",
       "    Operating Profit Rate   Pre-tax net Interest Rate  \\\n",
       "0                0.998969                    0.796887   \n",
       "1                0.998946                    0.797380   \n",
       "2                0.998857                    0.796403   \n",
       "3                0.998700                    0.796967   \n",
       "4                0.998973                    0.797366   \n",
       "\n",
       "    After-tax net Interest Rate   Non-industry income and expenditure/revenue  \\\n",
       "0                      0.808809                                      0.302646   \n",
       "1                      0.809301                                      0.303556   \n",
       "2                      0.808388                                      0.302035   \n",
       "3                      0.808966                                      0.303350   \n",
       "4                      0.809304                                      0.303475   \n",
       "\n",
       "   ...   Net Income to Total Assets   Total assets to GNP price  \\\n",
       "0  ...                     0.716845                    0.009219   \n",
       "1  ...                     0.795297                    0.008323   \n",
       "2  ...                     0.774670                    0.040003   \n",
       "3  ...                     0.739555                    0.003252   \n",
       "4  ...                     0.795016                    0.003878   \n",
       "\n",
       "    No-credit Interval   Gross Profit to Sales  \\\n",
       "0             0.622879                0.601453   \n",
       "1             0.623652                0.610237   \n",
       "2             0.623841                0.601449   \n",
       "3             0.622929                0.583538   \n",
       "4             0.623521                0.598782   \n",
       "\n",
       "    Net Income to Stockholder's Equity   Liability to Equity  \\\n",
       "0                             0.827890              0.290202   \n",
       "1                             0.839969              0.283846   \n",
       "2                             0.836774              0.290189   \n",
       "3                             0.834697              0.281721   \n",
       "4                             0.839973              0.278514   \n",
       "\n",
       "    Degree of Financial Leverage (DFL)  \\\n",
       "0                             0.026601   \n",
       "1                             0.264577   \n",
       "2                             0.026555   \n",
       "3                             0.026697   \n",
       "4                             0.024752   \n",
       "\n",
       "    Interest Coverage Ratio (Interest expense to EBIT)   Net Income Flag  \\\n",
       "0                                           0.564050                   1   \n",
       "1                                           0.570175                   1   \n",
       "2                                           0.563706                   1   \n",
       "3                                           0.564663                   1   \n",
       "4                                           0.575617                   1   \n",
       "\n",
       "    Equity to Liability  \n",
       "0              0.016469  \n",
       "1              0.020794  \n",
       "2              0.016474  \n",
       "3              0.023982  \n",
       "4              0.035490  \n",
       "\n",
       "[5 rows x 96 columns]"
      ]
     },
     "execution_count": 189,
     "metadata": {},
     "output_type": "execute_result"
    }
   ],
   "source": [
    "data = pd.read_csv('data.csv')\n",
    "data.head()"
   ]
  },
  {
   "cell_type": "code",
   "execution_count": 190,
   "id": "d5447c99",
   "metadata": {
    "collapsed": true
   },
   "outputs": [
    {
     "name": "stdout",
     "output_type": "stream",
     "text": [
      "<class 'pandas.core.frame.DataFrame'>\n",
      "RangeIndex: 6819 entries, 0 to 6818\n",
      "Data columns (total 96 columns):\n",
      " #   Column                                                    Non-Null Count  Dtype  \n",
      "---  ------                                                    --------------  -----  \n",
      " 0   Bankrupt?                                                 6819 non-null   int64  \n",
      " 1    ROA(C) before interest and depreciation before interest  6819 non-null   float64\n",
      " 2    ROA(A) before interest and % after tax                   6819 non-null   float64\n",
      " 3    ROA(B) before interest and depreciation after tax        6819 non-null   float64\n",
      " 4    Operating Gross Margin                                   6819 non-null   float64\n",
      " 5    Realized Sales Gross Margin                              6819 non-null   float64\n",
      " 6    Operating Profit Rate                                    6819 non-null   float64\n",
      " 7    Pre-tax net Interest Rate                                6819 non-null   float64\n",
      " 8    After-tax net Interest Rate                              6819 non-null   float64\n",
      " 9    Non-industry income and expenditure/revenue              6819 non-null   float64\n",
      " 10   Continuous interest rate (after tax)                     6819 non-null   float64\n",
      " 11   Operating Expense Rate                                   6819 non-null   float64\n",
      " 12   Research and development expense rate                    6819 non-null   float64\n",
      " 13   Cash flow rate                                           6819 non-null   float64\n",
      " 14   Interest-bearing debt interest rate                      6819 non-null   float64\n",
      " 15   Tax rate (A)                                             6819 non-null   float64\n",
      " 16   Net Value Per Share (B)                                  6819 non-null   float64\n",
      " 17   Net Value Per Share (A)                                  6819 non-null   float64\n",
      " 18   Net Value Per Share (C)                                  6819 non-null   float64\n",
      " 19   Persistent EPS in the Last Four Seasons                  6819 non-null   float64\n",
      " 20   Cash Flow Per Share                                      6819 non-null   float64\n",
      " 21   Revenue Per Share (Yuan ¥)                               6819 non-null   float64\n",
      " 22   Operating Profit Per Share (Yuan ¥)                      6819 non-null   float64\n",
      " 23   Per Share Net profit before tax (Yuan ¥)                 6819 non-null   float64\n",
      " 24   Realized Sales Gross Profit Growth Rate                  6819 non-null   float64\n",
      " 25   Operating Profit Growth Rate                             6819 non-null   float64\n",
      " 26   After-tax Net Profit Growth Rate                         6819 non-null   float64\n",
      " 27   Regular Net Profit Growth Rate                           6819 non-null   float64\n",
      " 28   Continuous Net Profit Growth Rate                        6819 non-null   float64\n",
      " 29   Total Asset Growth Rate                                  6819 non-null   float64\n",
      " 30   Net Value Growth Rate                                    6819 non-null   float64\n",
      " 31   Total Asset Return Growth Rate Ratio                     6819 non-null   float64\n",
      " 32   Cash Reinvestment %                                      6819 non-null   float64\n",
      " 33   Current Ratio                                            6819 non-null   float64\n",
      " 34   Quick Ratio                                              6819 non-null   float64\n",
      " 35   Interest Expense Ratio                                   6819 non-null   float64\n",
      " 36   Total debt/Total net worth                               6819 non-null   float64\n",
      " 37   Debt ratio %                                             6819 non-null   float64\n",
      " 38   Net worth/Assets                                         6819 non-null   float64\n",
      " 39   Long-term fund suitability ratio (A)                     6819 non-null   float64\n",
      " 40   Borrowing dependency                                     6819 non-null   float64\n",
      " 41   Contingent liabilities/Net worth                         6819 non-null   float64\n",
      " 42   Operating profit/Paid-in capital                         6819 non-null   float64\n",
      " 43   Net profit before tax/Paid-in capital                    6819 non-null   float64\n",
      " 44   Inventory and accounts receivable/Net value              6819 non-null   float64\n",
      " 45   Total Asset Turnover                                     6819 non-null   float64\n",
      " 46   Accounts Receivable Turnover                             6819 non-null   float64\n",
      " 47   Average Collection Days                                  6819 non-null   float64\n",
      " 48   Inventory Turnover Rate (times)                          6819 non-null   float64\n",
      " 49   Fixed Assets Turnover Frequency                          6819 non-null   float64\n",
      " 50   Net Worth Turnover Rate (times)                          6819 non-null   float64\n",
      " 51   Revenue per person                                       6819 non-null   float64\n",
      " 52   Operating profit per person                              6819 non-null   float64\n",
      " 53   Allocation rate per person                               6819 non-null   float64\n",
      " 54   Working Capital to Total Assets                          6819 non-null   float64\n",
      " 55   Quick Assets/Total Assets                                6819 non-null   float64\n",
      " 56   Current Assets/Total Assets                              6819 non-null   float64\n",
      " 57   Cash/Total Assets                                        6819 non-null   float64\n",
      " 58   Quick Assets/Current Liability                           6819 non-null   float64\n",
      " 59   Cash/Current Liability                                   6819 non-null   float64\n",
      " 60   Current Liability to Assets                              6819 non-null   float64\n",
      " 61   Operating Funds to Liability                             6819 non-null   float64\n",
      " 62   Inventory/Working Capital                                6819 non-null   float64\n",
      " 63   Inventory/Current Liability                              6819 non-null   float64\n",
      " 64   Current Liabilities/Liability                            6819 non-null   float64\n",
      " 65   Working Capital/Equity                                   6819 non-null   float64\n",
      " 66   Current Liabilities/Equity                               6819 non-null   float64\n",
      " 67   Long-term Liability to Current Assets                    6819 non-null   float64\n",
      " 68   Retained Earnings to Total Assets                        6819 non-null   float64\n",
      " 69   Total income/Total expense                               6819 non-null   float64\n",
      " 70   Total expense/Assets                                     6819 non-null   float64\n",
      " 71   Current Asset Turnover Rate                              6819 non-null   float64\n",
      " 72   Quick Asset Turnover Rate                                6819 non-null   float64\n",
      " 73   Working capitcal Turnover Rate                           6819 non-null   float64\n",
      " 74   Cash Turnover Rate                                       6819 non-null   float64\n",
      " 75   Cash Flow to Sales                                       6819 non-null   float64\n",
      " 76   Fixed Assets to Assets                                   6819 non-null   float64\n",
      " 77   Current Liability to Liability                           6819 non-null   float64\n",
      " 78   Current Liability to Equity                              6819 non-null   float64\n",
      " 79   Equity to Long-term Liability                            6819 non-null   float64\n",
      " 80   Cash Flow to Total Assets                                6819 non-null   float64\n",
      " 81   Cash Flow to Liability                                   6819 non-null   float64\n",
      " 82   CFO to Assets                                            6819 non-null   float64\n",
      " 83   Cash Flow to Equity                                      6819 non-null   float64\n",
      " 84   Current Liability to Current Assets                      6819 non-null   float64\n",
      " 85   Liability-Assets Flag                                    6819 non-null   int64  \n",
      " 86   Net Income to Total Assets                               6819 non-null   float64\n",
      " 87   Total assets to GNP price                                6819 non-null   float64\n",
      " 88   No-credit Interval                                       6819 non-null   float64\n",
      " 89   Gross Profit to Sales                                    6819 non-null   float64\n",
      " 90   Net Income to Stockholder's Equity                       6819 non-null   float64\n",
      " 91   Liability to Equity                                      6819 non-null   float64\n",
      " 92   Degree of Financial Leverage (DFL)                       6819 non-null   float64\n",
      " 93   Interest Coverage Ratio (Interest expense to EBIT)       6819 non-null   float64\n",
      " 94   Net Income Flag                                          6819 non-null   int64  \n",
      " 95   Equity to Liability                                      6819 non-null   float64\n",
      "dtypes: float64(93), int64(3)\n",
      "memory usage: 5.0 MB\n"
     ]
    }
   ],
   "source": [
    "data.info() #no null value"
   ]
  },
  {
   "cell_type": "markdown",
   "id": "4b6bb60c",
   "metadata": {},
   "source": [
    "### EDA--\n",
    "Looking into bankruptcy counts in this dataset."
   ]
  },
  {
   "cell_type": "code",
   "execution_count": 191,
   "id": "e4d4e524",
   "metadata": {},
   "outputs": [
    {
     "data": {
      "text/plain": [
       "<AxesSubplot:xlabel='Bankrupt?', ylabel='count'>"
      ]
     },
     "execution_count": 191,
     "metadata": {},
     "output_type": "execute_result"
    },
    {
     "data": {
      "image/png": "[encoded data removed]",
      "text/plain": [
       "<Figure size 432x288 with 1 Axes>"
      ]
     },
     "metadata": {
      "needs_background": "light"
     },
     "output_type": "display_data"
    }
   ],
   "source": [
    "sns.countplot(x = 'Bankrupt?',data = data ) #visualize bankruptcy in dataset. Small portion of sample is bankrupted."
   ]
  },
  {
   "cell_type": "code",
   "execution_count": 192,
   "id": "293a8e80",
   "metadata": {},
   "outputs": [
    {
     "data": {
      "text/plain": [
       "0    6599\n",
       "1     220\n",
       "Name: Bankrupt?, dtype: int64"
      ]
     },
     "execution_count": 192,
     "metadata": {},
     "output_type": "execute_result"
    }
   ],
   "source": [
    "data['Bankrupt?'].value_counts()"
   ]
  },
  {
   "cell_type": "markdown",
   "id": "a5db9b44",
   "metadata": {},
   "source": [
    "Standarderization"
   ]
  },
  {
   "cell_type": "code",
   "execution_count": 212,
   "id": "b6c0440a",
   "metadata": {},
   "outputs": [],
   "source": [
    "x = data.drop('Bankrupt?', axis=1)\n",
    "y = data['Bankrupt?']"
   ]
  },
  {
   "cell_type": "code",
   "execution_count": 213,
   "id": "14692178",
   "metadata": {},
   "outputs": [
    {
     "data": {
      "text/plain": [
       "StandardScaler()"
      ]
     },
     "execution_count": 213,
     "metadata": {},
     "output_type": "execute_result"
    }
   ],
   "source": [
    "from sklearn import preprocessing\n",
    "scaler = preprocessing.StandardScaler().fit(x)\n",
    "scaler\n",
    "xs = scaler.transform(x)"
   ]
  },
  {
   "cell_type": "code",
   "execution_count": 178,
   "id": "9ffd1a4a",
   "metadata": {},
   "outputs": [],
   "source": [
    "#min_max_scaler = preprocessing.MinMaxScaler()\n",
    "#xms = min_max_scaler.fit_transform(x)"
   ]
  },
  {
   "cell_type": "markdown",
   "id": "6a86c601",
   "metadata": {},
   "source": [
    "## Modeling"
   ]
  },
  {
   "cell_type": "code",
   "execution_count": 237,
   "id": "6383dbc3",
   "metadata": {},
   "outputs": [],
   "source": [
    "x_train, x_test, y_train, y_test = train_test_split(xs, y, train_size = 0.8, random_state=42)"
   ]
  },
  {
   "cell_type": "markdown",
   "id": "1e1ce8d7",
   "metadata": {},
   "source": [
    "### Logistics Regression"
   ]
  },
  {
   "cell_type": "code",
   "execution_count": 238,
   "id": "31e8597c",
   "metadata": {},
   "outputs": [
    {
     "data": {
      "text/plain": [
       "0.9726856095325389"
      ]
     },
     "execution_count": 238,
     "metadata": {},
     "output_type": "execute_result"
    }
   ],
   "source": [
    "LR_clf = LogisticRegression(max_iter=10000).fit(x_train, y_train)\n",
    "LR_clf.score(x_train, y_train) #accuracy score\n",
    "pred1 = LR_clf.predict(x_test) #Logistic Regression prediction"
   ]
  },
  {
   "cell_type": "code",
   "execution_count": 239,
   "id": "ca46114b",
   "metadata": {},
   "outputs": [
    {
     "data": {
      "text/plain": [
       "array([0, 0, 0, ..., 0, 0, 0])"
      ]
     },
     "execution_count": 239,
     "metadata": {},
     "output_type": "execute_result"
    }
   ],
   "source": [
    "pred1"
   ]
  },
  {
   "cell_type": "code",
   "execution_count": 240,
   "id": "9e0fa3e9",
   "metadata": {},
   "outputs": [
    {
     "data": {
      "text/plain": [
       "array([[1306,    7],\n",
       "       [  40,   11]])"
      ]
     },
     "execution_count": 240,
     "metadata": {},
     "output_type": "execute_result"
    },
    {
     "name": "stdout",
     "output_type": "stream",
     "text": [
      "1306 7 40 11\n"
     ]
    }
   ],
   "source": [
    "from sklearn.metrics import confusion_matrix\n",
    "confusion_matrix(y_test, pred1)\n",
    "tn, fp, fn, tp = confusion_matrix(y_test, pred1).ravel()\n",
    "print(tn, fp, fn, tp)"
   ]
  },
  {
   "cell_type": "code",
   "execution_count": 241,
   "id": "58f8fcec",
   "metadata": {},
   "outputs": [
    {
     "data": {
      "text/plain": [
       "0.6111111111111112"
      ]
     },
     "execution_count": 241,
     "metadata": {},
     "output_type": "execute_result"
    },
    {
     "data": {
      "text/plain": [
       "0.21568627450980393"
      ]
     },
     "execution_count": 241,
     "metadata": {},
     "output_type": "execute_result"
    },
    {
     "name": "stdout",
     "output_type": "stream",
     "text": [
      "              precision    recall  f1-score   support\n",
      "\n",
      "           0       0.97      0.99      0.98      1313\n",
      "           1       0.61      0.22      0.32        51\n",
      "\n",
      "    accuracy                           0.97      1364\n",
      "   macro avg       0.79      0.61      0.65      1364\n",
      "weighted avg       0.96      0.97      0.96      1364\n",
      "\n"
     ]
    }
   ],
   "source": [
    "from sklearn.metrics import precision_score, recall_score,classification_report\n",
    "precision_score(y_test, pred1)\n",
    "recall_score(y_test, pred1)    \n",
    "print(classification_report(y_test,pred1))"
   ]
  },
  {
   "cell_type": "code",
   "execution_count": 273,
   "id": "ced15bfd",
   "metadata": {},
   "outputs": [
    {
     "data": {
      "text/plain": [
       "0.31884057971014496"
      ]
     },
     "execution_count": 273,
     "metadata": {},
     "output_type": "execute_result"
    }
   ],
   "source": [
    "from sklearn.metrics import f1_score\n",
    "f1_score(y_test, pred1)"
   ]
  },
  {
   "cell_type": "markdown",
   "id": "b94d22b2",
   "metadata": {},
   "source": [
    "Logistic Regression with L2 penalty"
   ]
  },
  {
   "cell_type": "code",
   "execution_count": 405,
   "id": "379d3374",
   "metadata": {},
   "outputs": [
    {
     "data": {
      "text/plain": [
       "0.5909090909090909"
      ]
     },
     "execution_count": 405,
     "metadata": {},
     "output_type": "execute_result"
    },
    {
     "data": {
      "text/plain": [
       "0.2549019607843137"
      ]
     },
     "execution_count": 405,
     "metadata": {},
     "output_type": "execute_result"
    }
   ],
   "source": [
    "clf_l1_LR = LogisticRegression(C=1000, \n",
    "                               penalty=\"l2\", \n",
    "                               #tol=0.01, \n",
    "                               solver=\"liblinear\").fit(x_train, y_train)\n",
    "#clf_l1_LR.score(x_train, y_train)\n",
    "pred12 = clf_l1_LR.predict(x_test)\n",
    "precision_score(y_test, pred12)\n",
    "recall_score(y_test, pred12)"
   ]
  },
  {
   "cell_type": "code",
   "execution_count": 406,
   "id": "c92e8b24",
   "metadata": {},
   "outputs": [
    {
     "data": {
      "text/plain": [
       "array([[1304,    9],\n",
       "       [  38,   13]])"
      ]
     },
     "execution_count": 406,
     "metadata": {},
     "output_type": "execute_result"
    },
    {
     "name": "stdout",
     "output_type": "stream",
     "text": [
      "1304 9 38 13\n"
     ]
    }
   ],
   "source": [
    "confusion_matrix(y_test, pred12)\n",
    "tn, fp, fn, tp = confusion_matrix(y_test, pred12).ravel()\n",
    "print(tn, fp, fn, tp)"
   ]
  },
  {
   "cell_type": "code",
   "execution_count": 407,
   "id": "2690f1b9",
   "metadata": {},
   "outputs": [
    {
     "name": "stdout",
     "output_type": "stream",
     "text": [
      "              precision    recall  f1-score   support\n",
      "\n",
      "           0       0.97      0.99      0.98      1313\n",
      "           1       0.59      0.25      0.36        51\n",
      "\n",
      "    accuracy                           0.97      1364\n",
      "   macro avg       0.78      0.62      0.67      1364\n",
      "weighted avg       0.96      0.97      0.96      1364\n",
      "\n"
     ]
    }
   ],
   "source": [
    "print(classification_report(y_test,pred12))"
   ]
  },
  {
   "cell_type": "markdown",
   "id": "b0eb2ce7",
   "metadata": {},
   "source": [
    "Metrics and ROC curve"
   ]
  },
  {
   "cell_type": "code",
   "execution_count": 480,
   "id": "5c5090d5",
   "metadata": {},
   "outputs": [
    {
     "data": {
      "text/plain": [
       "(-50.0, 20.0)"
      ]
     },
     "execution_count": 480,
     "metadata": {},
     "output_type": "execute_result"
    },
    {
     "data": {
      "text/plain": [
       "[<matplotlib.lines.Line2D at 0x7f81529a3430>]"
      ]
     },
     "execution_count": 480,
     "metadata": {},
     "output_type": "execute_result"
    },
    {
     "data": {
      "text/plain": [
       "[<matplotlib.lines.Line2D at 0x7f81529a38b0>]"
      ]
     },
     "execution_count": 480,
     "metadata": {},
     "output_type": "execute_result"
    },
    {
     "data": {
      "image/png": "[encoded data removed]",
      "text/plain": [
       "<Figure size 432x288 with 1 Axes>"
      ]
     },
     "metadata": {
      "needs_background": "light"
     },
     "output_type": "display_data"
    },
    {
     "data": {
      "text/plain": [
       "[<matplotlib.lines.Line2D at 0x7f8152b3f430>]"
      ]
     },
     "execution_count": 480,
     "metadata": {},
     "output_type": "execute_result"
    },
    {
     "data": {
      "image/png": "[encoded data removed]",
      "text/plain": [
       "<Figure size 432x288 with 1 Axes>"
      ]
     },
     "metadata": {
      "needs_background": "light"
     },
     "output_type": "display_data"
    }
   ],
   "source": [
    "probs_y=clf_l1_LR.predict_proba(x_test)[::,1]\n",
    "y_score = clf_l1_LR.decision_function(x_test)\n",
    "from sklearn.metrics import precision_recall_curve\n",
    "from sklearn import metrics\n",
    "from sklearn.metrics import roc_auc_score\n",
    "precision, recall, thresholds = precision_recall_curve(y_test, y_score)\n",
    "\n",
    "fig1, ax = plt.subplots()\n",
    "ax.set_xlim(-50, 20)\n",
    "plt.plot(thresholds, precision[:-1], label=\"Precision\")\n",
    "plt.plot(thresholds, recall[:-1], label=\"Recall\")\n",
    "\n",
    "ax.set_box_aspect(1)\n",
    "plt.show()\n",
    "\n",
    "plt.plot(recall, precision)"
   ]
  },
  {
   "cell_type": "code",
   "execution_count": 454,
   "id": "3df5c16e",
   "metadata": {},
   "outputs": [
    {
     "data": {
      "text/plain": [
       "[<matplotlib.lines.Line2D at 0x7f8151327a60>]"
      ]
     },
     "execution_count": 454,
     "metadata": {},
     "output_type": "execute_result"
    },
    {
     "data": {
      "text/plain": [
       "Text(0.5, 1.0, 'Logistic Regression Model ROC Curve')"
      ]
     },
     "execution_count": 454,
     "metadata": {},
     "output_type": "execute_result"
    },
    {
     "data": {
      "text/plain": [
       "Text(0, 0.5, 'True Positive Rate')"
      ]
     },
     "execution_count": 454,
     "metadata": {},
     "output_type": "execute_result"
    },
    {
     "data": {
      "text/plain": [
       "Text(0.5, 0, 'False Positive Rate')"
      ]
     },
     "execution_count": 454,
     "metadata": {},
     "output_type": "execute_result"
    },
    {
     "data": {
      "image/png": "[encoded data removed]",
      "text/plain": [
       "<Figure size 432x288 with 1 Axes>"
      ]
     },
     "metadata": {
      "needs_background": "light"
     },
     "output_type": "display_data"
    }
   ],
   "source": [
    "fpr, tpr, thresholds = metrics.roc_curve(y_test, y_score)\n",
    "plt.plot(fpr,tpr)\n",
    "plt.title('Logistic Regression Model ROC Curve')\n",
    "plt.ylabel('True Positive Rate')\n",
    "plt.xlabel('False Positive Rate')\n",
    "plt.show()"
   ]
  },
  {
   "cell_type": "code",
   "execution_count": 455,
   "id": "11ccc2aa",
   "metadata": {},
   "outputs": [
    {
     "data": {
      "text/plain": [
       "0.8917163209533624"
      ]
     },
     "execution_count": 455,
     "metadata": {},
     "output_type": "execute_result"
    }
   ],
   "source": [
    "from sklearn.metrics import roc_auc_score\n",
    "roc_auc_score(y_test, probs_y)\n"
   ]
  },
  {
   "cell_type": "markdown",
   "id": "117f58c1",
   "metadata": {},
   "source": [
    "### SVM "
   ]
  },
  {
   "cell_type": "code",
   "execution_count": 300,
   "id": "3d24a413",
   "metadata": {},
   "outputs": [
    {
     "data": {
      "text/plain": [
       "SVC()"
      ]
     },
     "execution_count": 300,
     "metadata": {},
     "output_type": "execute_result"
    },
    {
     "data": {
      "text/plain": [
       "0.9730522456461962"
      ]
     },
     "execution_count": 300,
     "metadata": {},
     "output_type": "execute_result"
    }
   ],
   "source": [
    "from sklearn.svm import SVC\n",
    "svm_clf = SVC()\n",
    "svm_clf.fit(x_train, y_train)\n",
    "svm_clf.score(x_train, y_train)\n",
    "pred2 = svm_clf.predict(x_test)"
   ]
  },
  {
   "cell_type": "code",
   "execution_count": 232,
   "id": "3eed5312",
   "metadata": {},
   "outputs": [
    {
     "data": {
      "text/plain": [
       "array([[1313,    0],\n",
       "       [  50,    1]])"
      ]
     },
     "execution_count": 232,
     "metadata": {},
     "output_type": "execute_result"
    },
    {
     "name": "stdout",
     "output_type": "stream",
     "text": [
      "1313 0 50 1\n"
     ]
    }
   ],
   "source": [
    "confusion_matrix(y_test, pred2)\n",
    "tn, fp, fn, tp = confusion_matrix(y_test, pred2).ravel()\n",
    "print(tn, fp, fn, tp)"
   ]
  },
  {
   "cell_type": "code",
   "execution_count": 233,
   "id": "e9a1c85a",
   "metadata": {},
   "outputs": [
    {
     "data": {
      "text/plain": [
       "1.0"
      ]
     },
     "execution_count": 233,
     "metadata": {},
     "output_type": "execute_result"
    },
    {
     "data": {
      "text/plain": [
       "0.0196078431372549"
      ]
     },
     "execution_count": 233,
     "metadata": {},
     "output_type": "execute_result"
    },
    {
     "name": "stdout",
     "output_type": "stream",
     "text": [
      "              precision    recall  f1-score   support\n",
      "\n",
      "           0       0.96      1.00      0.98      1313\n",
      "           1       1.00      0.02      0.04        51\n",
      "\n",
      "    accuracy                           0.96      1364\n",
      "   macro avg       0.98      0.51      0.51      1364\n",
      "weighted avg       0.96      0.96      0.95      1364\n",
      "\n"
     ]
    }
   ],
   "source": [
    "precision_score(y_test, pred2)\n",
    "recall_score(y_test, pred2)    \n",
    "print(classification_report(y_test,pred2))"
   ]
  },
  {
   "cell_type": "markdown",
   "id": "2619a983",
   "metadata": {},
   "source": [
    "Hyperparameter Tuning "
   ]
  },
  {
   "cell_type": "code",
   "execution_count": 377,
   "id": "04e04444",
   "metadata": {},
   "outputs": [
    {
     "name": "stdout",
     "output_type": "stream",
     "text": [
      "Best: 0.969019 using {'C': 0.1, 'gamma': 'scale', 'kernel': 'rbf'}\n"
     ]
    }
   ],
   "source": [
    "from sklearn.model_selection import GridSearchCV\n",
    "Kernel = ['linear','rbf']\n",
    "C= [0.1,1,10,20,50,100,150,200]\n",
    "gamma = ['scale']\n",
    "grid = dict(kernel=Kernel,C=C,gamma=gamma)\n",
    "gs = GridSearchCV(estimator=svm_clf, \n",
    "             param_grid=grid, \n",
    "             n_jobs=-1)\n",
    "gs_fit = gs.fit(x_train, y_train)\n",
    "print(\"Best: %f using %s\" % (gs_fit.best_score_, gs_fit.best_params_))\n"
   ]
  },
  {
   "cell_type": "code",
   "execution_count": 448,
   "id": "b3c5659b",
   "metadata": {},
   "outputs": [
    {
     "name": "stdout",
     "output_type": "stream",
     "text": [
      "              precision    recall  f1-score   support\n",
      "\n",
      "           0       0.97      0.99      0.98      1313\n",
      "           1       0.47      0.27      0.35        51\n",
      "\n",
      "    accuracy                           0.96      1364\n",
      "   macro avg       0.72      0.63      0.66      1364\n",
      "weighted avg       0.95      0.96      0.96      1364\n",
      "\n"
     ]
    }
   ],
   "source": [
    "SVC_ht = SVC(kernel = 'rbf', \n",
    "             C = 150, \n",
    "             gamma = 'scale').fit(x_train, y_train)\n",
    "pred22 = SVC_ht.predict(x_test)\n",
    "print(classification_report(y_test,pred22))"
   ]
  },
  {
   "cell_type": "code",
   "execution_count": 354,
   "id": "011118e5",
   "metadata": {},
   "outputs": [
    {
     "data": {
      "text/plain": [
       "array([[1313,    0],\n",
       "       [  49,    2]])"
      ]
     },
     "execution_count": 354,
     "metadata": {},
     "output_type": "execute_result"
    },
    {
     "name": "stdout",
     "output_type": "stream",
     "text": [
      "1313 0 48 3\n"
     ]
    }
   ],
   "source": [
    "confusion_matrix(y_test, pred22)\n",
    "tn, fp, fn, tp = confusion_matrix(y_test, pred22).ravel()\n",
    "print(tn, fp, fn, tp)"
   ]
  },
  {
   "cell_type": "markdown",
   "id": "e072c325",
   "metadata": {},
   "source": [
    "The hyperparameter tuning did come out with high accuracy score but very low f1 score."
   ]
  },
  {
   "cell_type": "code",
   "execution_count": 434,
   "id": "2904cc3b",
   "metadata": {},
   "outputs": [
    {
     "data": {
      "text/plain": [
       "[<matplotlib.lines.Line2D at 0x7f8151c489a0>]"
      ]
     },
     "execution_count": 434,
     "metadata": {},
     "output_type": "execute_result"
    },
    {
     "data": {
      "text/plain": [
       "Text(0.5, 1.0, 'Logistic Regression Model ROC Curve')"
      ]
     },
     "execution_count": 434,
     "metadata": {},
     "output_type": "execute_result"
    },
    {
     "data": {
      "text/plain": [
       "Text(0, 0.5, 'True Positive Rate')"
      ]
     },
     "execution_count": 434,
     "metadata": {},
     "output_type": "execute_result"
    },
    {
     "data": {
      "text/plain": [
       "Text(0.5, 0, 'False Positive Rate')"
      ]
     },
     "execution_count": 434,
     "metadata": {},
     "output_type": "execute_result"
    },
    {
     "data": {
      "image/png": "[encoded data removed]",
      "text/plain": [
       "<Figure size 432x288 with 1 Axes>"
      ]
     },
     "metadata": {
      "needs_background": "light"
     },
     "output_type": "display_data"
    }
   ],
   "source": [
    "y_score2 = SVC_ht.decision_function(x_test)\n",
    "fpr, tpr, thresholds = metrics.roc_curve(y_test, y_score2)\n",
    "plt.plot(fpr,tpr)\n",
    "plt.title('Logistic Regression Model ROC Curve')\n",
    "plt.ylabel('True Positive Rate')\n",
    "plt.xlabel('False Positive Rate')\n",
    "plt.show()"
   ]
  },
  {
   "cell_type": "code",
   "execution_count": 435,
   "id": "10518c62",
   "metadata": {},
   "outputs": [
    {
     "data": {
      "text/plain": [
       "0.8755880112898167"
      ]
     },
     "execution_count": 435,
     "metadata": {},
     "output_type": "execute_result"
    }
   ],
   "source": [
    "from sklearn.metrics import roc_auc_score\n",
    "roc_auc_score(y_test, y_score2)"
   ]
  },
  {
   "cell_type": "markdown",
   "id": "d0e0d052",
   "metadata": {},
   "source": [
    "### Naive Bayes Model"
   ]
  },
  {
   "cell_type": "code",
   "execution_count": 460,
   "id": "a64f34b0",
   "metadata": {},
   "outputs": [],
   "source": [
    "from sklearn.naive_bayes import GaussianNB\n",
    "gnb = GaussianNB()\n",
    "pred3 = gnb.fit(x_train, y_train).predict(x_test)"
   ]
  },
  {
   "cell_type": "code",
   "execution_count": 461,
   "id": "e22c639f",
   "metadata": {},
   "outputs": [
    {
     "data": {
      "text/plain": [
       "array([[ 183, 1130],\n",
       "       [   3,   48]])"
      ]
     },
     "execution_count": 461,
     "metadata": {},
     "output_type": "execute_result"
    },
    {
     "name": "stdout",
     "output_type": "stream",
     "text": [
      "183 1130 3 48\n"
     ]
    }
   ],
   "source": [
    "confusion_matrix(y_test, pred3)\n",
    "tn, fp, fn, tp = confusion_matrix(y_test, pred3).ravel()\n",
    "print(tn, fp, fn, tp)"
   ]
  },
  {
   "cell_type": "code",
   "execution_count": 462,
   "id": "a7f7f83a",
   "metadata": {},
   "outputs": [
    {
     "data": {
      "text/plain": [
       "0.04074702886247878"
      ]
     },
     "execution_count": 462,
     "metadata": {},
     "output_type": "execute_result"
    },
    {
     "data": {
      "text/plain": [
       "0.9411764705882353"
      ]
     },
     "execution_count": 462,
     "metadata": {},
     "output_type": "execute_result"
    },
    {
     "data": {
      "text/plain": [
       "0.8755880112898167"
      ]
     },
     "execution_count": 462,
     "metadata": {},
     "output_type": "execute_result"
    },
    {
     "name": "stdout",
     "output_type": "stream",
     "text": [
      "              precision    recall  f1-score   support\n",
      "\n",
      "           0       0.98      0.14      0.24      1313\n",
      "           1       0.04      0.94      0.08        51\n",
      "\n",
      "    accuracy                           0.17      1364\n",
      "   macro avg       0.51      0.54      0.16      1364\n",
      "weighted avg       0.95      0.17      0.24      1364\n",
      "\n"
     ]
    }
   ],
   "source": [
    "precision_score(y_test, pred3)\n",
    "recall_score(y_test, pred3)    \n",
    "roc_auc_score(y_test, y_score2)\n",
    "print(classification_report(y_test,pred3))"
   ]
  },
  {
   "cell_type": "markdown",
   "id": "51ede5ac",
   "metadata": {},
   "source": [
    "In general, model, the accuracy, f1 score, precision, recall, roc score are varied in the three models:\n",
    "\n",
    "L2 Logistics Regresion:\n",
    "Accuracy: 0.97\n",
    "F1 score: 0.36\n",
    "Precision: 0.59\n",
    "Recall: 0.25\n",
    "roc score: 0.89\n",
    "\n",
    "Tuned SVM:\n",
    "Accuracy: 0.96\n",
    "F1 score: 0.35\n",
    "Precision: 0.47\n",
    "Recall: 0.27\n",
    "roc score: 0.87\n",
    "\n",
    "Naive Bayes:\n",
    "Accuracy: 0.17\n",
    "F1 score: 0.08\n",
    "Precision: 0.04\n",
    "Recall: 0.94\n",
    "roc score: --"
   ]
  },
  {
   "cell_type": "code",
   "execution_count": null,
   "id": "1ce55b14",
   "metadata": {},
   "outputs": [],
   "source": []
  }
 ],
 "metadata": {
  "kernelspec": {
   "display_name": "Python 3",
   "language": "python",
   "name": "python3"
  },
  "language_info": {
   "codemirror_mode": {
    "name": "ipython",
    "version": 3
   },
   "file_extension": ".py",
   "mimetype": "text/x-python",
   "name": "python",
   "nbconvert_exporter": "python",
   "pygments_lexer": "ipython3",
   "version": "3.8.8"
  }
 },
 "nbformat": 4,
 "nbformat_minor": 5
}
