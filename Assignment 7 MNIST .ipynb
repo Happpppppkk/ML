{
 "cells": [
  {
   "cell_type": "markdown",
   "id": "c98e59e6",
   "metadata": {},
   "source": [
    "# Assignment 7 - Digital Recognizer NN"
   ]
  },
  {
   "cell_type": "markdown",
   "id": "a178cd42",
   "metadata": {},
   "source": [
    "#### 1. Ingest\n",
    "#### 2. 2 layer neural network\n",
    "#### 3. 5 layer neural network\n",
    "#### 4. Tensorboard\n",
    "#### 5. Confusion Matrix from 5 layer neural network"
   ]
  },
  {
   "cell_type": "markdown",
   "id": "ae540874",
   "metadata": {},
   "source": [
    "Ingest"
   ]
  },
  {
   "cell_type": "code",
   "execution_count": 58,
   "id": "0c50925f",
   "metadata": {},
   "outputs": [],
   "source": [
    "import pandas as pd\n",
    "import numpy as np\n",
    "import matplotlib.pyplot as plt\n",
    "import seaborn as sns\n",
    "import time\n",
    "from sklearn.neighbors import KNeighborsClassifier\n",
    "from sklearn.decomposition import PCA\n",
    "from sklearn.model_selection import train_test_split\n",
    "from IPython.core.interactiveshell import InteractiveShell \n",
    "InteractiveShell.ast_node_interactivity = \"all\"\n",
    "\n",
    "import tensorflow as tf\n",
    "from tensorflow import keras\n",
    "from tensorflow.keras.callbacks import TensorBoard\n"
   ]
  },
  {
   "cell_type": "code",
   "execution_count": 42,
   "id": "4f0733c8",
   "metadata": {},
   "outputs": [],
   "source": [
    "train = pd.read_csv('train.csv')\n",
    "test = pd.read_csv('test.csv')"
   ]
  },
  {
   "cell_type": "code",
   "execution_count": 3,
   "id": "db61d288",
   "metadata": {},
   "outputs": [
    {
     "data": {
      "text/plain": [
       "(42000, 785)"
      ]
     },
     "execution_count": 3,
     "metadata": {},
     "output_type": "execute_result"
    },
    {
     "data": {
      "text/plain": [
       "(28000, 784)"
      ]
     },
     "execution_count": 3,
     "metadata": {},
     "output_type": "execute_result"
    },
    {
     "data": {
      "text/html": [
       "<div>\n",
       "<style scoped>\n",
       "    .dataframe tbody tr th:only-of-type {\n",
       "        vertical-align: middle;\n",
       "    }\n",
       "\n",
       "    .dataframe tbody tr th {\n",
       "        vertical-align: top;\n",
       "    }\n",
       "\n",
       "    .dataframe thead th {\n",
       "        text-align: right;\n",
       "    }\n",
       "</style>\n",
       "<table border=\"1\" class=\"dataframe\">\n",
       "  <thead>\n",
       "    <tr style=\"text-align: right;\">\n",
       "      <th></th>\n",
       "      <th>label</th>\n",
       "      <th>pixel0</th>\n",
       "      <th>pixel1</th>\n",
       "      <th>pixel2</th>\n",
       "      <th>pixel3</th>\n",
       "      <th>pixel4</th>\n",
       "      <th>pixel5</th>\n",
       "      <th>pixel6</th>\n",
       "      <th>pixel7</th>\n",
       "      <th>pixel8</th>\n",
       "      <th>...</th>\n",
       "      <th>pixel774</th>\n",
       "      <th>pixel775</th>\n",
       "      <th>pixel776</th>\n",
       "      <th>pixel777</th>\n",
       "      <th>pixel778</th>\n",
       "      <th>pixel779</th>\n",
       "      <th>pixel780</th>\n",
       "      <th>pixel781</th>\n",
       "      <th>pixel782</th>\n",
       "      <th>pixel783</th>\n",
       "    </tr>\n",
       "  </thead>\n",
       "  <tbody>\n",
       "    <tr>\n",
       "      <th>0</th>\n",
       "      <td>1</td>\n",
       "      <td>0</td>\n",
       "      <td>0</td>\n",
       "      <td>0</td>\n",
       "      <td>0</td>\n",
       "      <td>0</td>\n",
       "      <td>0</td>\n",
       "      <td>0</td>\n",
       "      <td>0</td>\n",
       "      <td>0</td>\n",
       "      <td>...</td>\n",
       "      <td>0</td>\n",
       "      <td>0</td>\n",
       "      <td>0</td>\n",
       "      <td>0</td>\n",
       "      <td>0</td>\n",
       "      <td>0</td>\n",
       "      <td>0</td>\n",
       "      <td>0</td>\n",
       "      <td>0</td>\n",
       "      <td>0</td>\n",
       "    </tr>\n",
       "    <tr>\n",
       "      <th>1</th>\n",
       "      <td>0</td>\n",
       "      <td>0</td>\n",
       "      <td>0</td>\n",
       "      <td>0</td>\n",
       "      <td>0</td>\n",
       "      <td>0</td>\n",
       "      <td>0</td>\n",
       "      <td>0</td>\n",
       "      <td>0</td>\n",
       "      <td>0</td>\n",
       "      <td>...</td>\n",
       "      <td>0</td>\n",
       "      <td>0</td>\n",
       "      <td>0</td>\n",
       "      <td>0</td>\n",
       "      <td>0</td>\n",
       "      <td>0</td>\n",
       "      <td>0</td>\n",
       "      <td>0</td>\n",
       "      <td>0</td>\n",
       "      <td>0</td>\n",
       "    </tr>\n",
       "    <tr>\n",
       "      <th>2</th>\n",
       "      <td>1</td>\n",
       "      <td>0</td>\n",
       "      <td>0</td>\n",
       "      <td>0</td>\n",
       "      <td>0</td>\n",
       "      <td>0</td>\n",
       "      <td>0</td>\n",
       "      <td>0</td>\n",
       "      <td>0</td>\n",
       "      <td>0</td>\n",
       "      <td>...</td>\n",
       "      <td>0</td>\n",
       "      <td>0</td>\n",
       "      <td>0</td>\n",
       "      <td>0</td>\n",
       "      <td>0</td>\n",
       "      <td>0</td>\n",
       "      <td>0</td>\n",
       "      <td>0</td>\n",
       "      <td>0</td>\n",
       "      <td>0</td>\n",
       "    </tr>\n",
       "    <tr>\n",
       "      <th>3</th>\n",
       "      <td>4</td>\n",
       "      <td>0</td>\n",
       "      <td>0</td>\n",
       "      <td>0</td>\n",
       "      <td>0</td>\n",
       "      <td>0</td>\n",
       "      <td>0</td>\n",
       "      <td>0</td>\n",
       "      <td>0</td>\n",
       "      <td>0</td>\n",
       "      <td>...</td>\n",
       "      <td>0</td>\n",
       "      <td>0</td>\n",
       "      <td>0</td>\n",
       "      <td>0</td>\n",
       "      <td>0</td>\n",
       "      <td>0</td>\n",
       "      <td>0</td>\n",
       "      <td>0</td>\n",
       "      <td>0</td>\n",
       "      <td>0</td>\n",
       "    </tr>\n",
       "    <tr>\n",
       "      <th>4</th>\n",
       "      <td>0</td>\n",
       "      <td>0</td>\n",
       "      <td>0</td>\n",
       "      <td>0</td>\n",
       "      <td>0</td>\n",
       "      <td>0</td>\n",
       "      <td>0</td>\n",
       "      <td>0</td>\n",
       "      <td>0</td>\n",
       "      <td>0</td>\n",
       "      <td>...</td>\n",
       "      <td>0</td>\n",
       "      <td>0</td>\n",
       "      <td>0</td>\n",
       "      <td>0</td>\n",
       "      <td>0</td>\n",
       "      <td>0</td>\n",
       "      <td>0</td>\n",
       "      <td>0</td>\n",
       "      <td>0</td>\n",
       "      <td>0</td>\n",
       "    </tr>\n",
       "  </tbody>\n",
       "</table>\n",
       "<p>5 rows × 785 columns</p>\n",
       "</div>"
      ],
      "text/plain": [
       "   label  pixel0  pixel1  pixel2  pixel3  pixel4  pixel5  pixel6  pixel7  \\\n",
       "0      1       0       0       0       0       0       0       0       0   \n",
       "1      0       0       0       0       0       0       0       0       0   \n",
       "2      1       0       0       0       0       0       0       0       0   \n",
       "3      4       0       0       0       0       0       0       0       0   \n",
       "4      0       0       0       0       0       0       0       0       0   \n",
       "\n",
       "   pixel8  ...  pixel774  pixel775  pixel776  pixel777  pixel778  pixel779  \\\n",
       "0       0  ...         0         0         0         0         0         0   \n",
       "1       0  ...         0         0         0         0         0         0   \n",
       "2       0  ...         0         0         0         0         0         0   \n",
       "3       0  ...         0         0         0         0         0         0   \n",
       "4       0  ...         0         0         0         0         0         0   \n",
       "\n",
       "   pixel780  pixel781  pixel782  pixel783  \n",
       "0         0         0         0         0  \n",
       "1         0         0         0         0  \n",
       "2         0         0         0         0  \n",
       "3         0         0         0         0  \n",
       "4         0         0         0         0  \n",
       "\n",
       "[5 rows x 785 columns]"
      ]
     },
     "execution_count": 3,
     "metadata": {},
     "output_type": "execute_result"
    }
   ],
   "source": [
    "train.shape\n",
    "test.shape\n",
    "train.head()"
   ]
  },
  {
   "cell_type": "code",
   "execution_count": 67,
   "id": "9305d2f9",
   "metadata": {},
   "outputs": [],
   "source": [
    "y = train['label']\n",
    "x = train.drop('label', axis=1)\n",
    "x_train, x_test, y_train, y_test = train_test_split(x, y, train_size = 0.8, random_state=42)\n"
   ]
  },
  {
   "cell_type": "markdown",
   "id": "8d55f24b",
   "metadata": {},
   "source": [
    "#### 1. Neural Network with 2 layers: 397 nodes and 200 nodes for initial testing."
   ]
  },
  {
   "cell_type": "code",
   "execution_count": 51,
   "id": "7d3ca296",
   "metadata": {
    "scrolled": true
   },
   "outputs": [
    {
     "name": "stdout",
     "output_type": "stream",
     "text": [
      "Epoch 1/50\n",
      "4/4 [==============================] - 1s 159ms/step - loss: 68.0023 - accuracy: 0.2595 - val_loss: 16.4662 - val_accuracy: 0.6819\n",
      "Epoch 2/50\n",
      "4/4 [==============================] - 0s 106ms/step - loss: 14.1208 - accuracy: 0.7138 - val_loss: 9.4386 - val_accuracy: 0.7879\n",
      "Epoch 3/50\n",
      "4/4 [==============================] - 0s 104ms/step - loss: 7.9889 - accuracy: 0.8129 - val_loss: 6.7921 - val_accuracy: 0.8343\n",
      "Epoch 4/50\n",
      "4/4 [==============================] - 0s 103ms/step - loss: 6.1099 - accuracy: 0.8469 - val_loss: 4.7942 - val_accuracy: 0.8719\n",
      "Epoch 5/50\n",
      "4/4 [==============================] - 0s 99ms/step - loss: 4.4693 - accuracy: 0.8773 - val_loss: 3.7656 - val_accuracy: 0.8921\n",
      "Epoch 6/50\n",
      "4/4 [==============================] - 0s 99ms/step - loss: 3.2177 - accuracy: 0.9014 - val_loss: 3.2994 - val_accuracy: 0.8951\n",
      "Epoch 7/50\n",
      "4/4 [==============================] - 0s 106ms/step - loss: 2.8475 - accuracy: 0.9042 - val_loss: 2.6835 - val_accuracy: 0.9049\n",
      "Epoch 8/50\n",
      "4/4 [==============================] - 0s 102ms/step - loss: 2.1987 - accuracy: 0.9181 - val_loss: 2.2934 - val_accuracy: 0.9113\n",
      "Epoch 9/50\n",
      "4/4 [==============================] - 0s 101ms/step - loss: 1.8906 - accuracy: 0.9224 - val_loss: 2.0715 - val_accuracy: 0.9163\n",
      "Epoch 10/50\n",
      "4/4 [==============================] - 0s 101ms/step - loss: 1.6278 - accuracy: 0.9278 - val_loss: 1.9031 - val_accuracy: 0.9185\n",
      "Epoch 11/50\n",
      "4/4 [==============================] - 0s 99ms/step - loss: 1.3750 - accuracy: 0.9330 - val_loss: 1.7277 - val_accuracy: 0.9196\n",
      "Epoch 12/50\n",
      "4/4 [==============================] - 0s 101ms/step - loss: 1.1861 - accuracy: 0.9373 - val_loss: 1.6087 - val_accuracy: 0.9189\n",
      "Epoch 13/50\n",
      "4/4 [==============================] - 0s 101ms/step - loss: 1.0373 - accuracy: 0.9405 - val_loss: 1.4982 - val_accuracy: 0.9223\n",
      "Epoch 14/50\n",
      "4/4 [==============================] - 0s 100ms/step - loss: 0.9069 - accuracy: 0.9431 - val_loss: 1.4030 - val_accuracy: 0.9255\n",
      "Epoch 15/50\n",
      "4/4 [==============================] - 0s 107ms/step - loss: 0.8094 - accuracy: 0.9482 - val_loss: 1.3620 - val_accuracy: 0.9245\n",
      "Epoch 16/50\n",
      "4/4 [==============================] - 0s 101ms/step - loss: 0.7417 - accuracy: 0.9502 - val_loss: 1.2890 - val_accuracy: 0.9268\n",
      "Epoch 17/50\n",
      "4/4 [==============================] - 0s 100ms/step - loss: 0.6216 - accuracy: 0.9567 - val_loss: 1.2388 - val_accuracy: 0.9299\n",
      "Epoch 18/50\n",
      "4/4 [==============================] - 0s 107ms/step - loss: 0.5315 - accuracy: 0.9608 - val_loss: 1.2111 - val_accuracy: 0.9293\n",
      "Epoch 19/50\n",
      "4/4 [==============================] - 0s 101ms/step - loss: 0.4883 - accuracy: 0.9637 - val_loss: 1.1800 - val_accuracy: 0.9308\n",
      "Epoch 20/50\n",
      "4/4 [==============================] - 0s 102ms/step - loss: 0.4268 - accuracy: 0.9673 - val_loss: 1.1579 - val_accuracy: 0.9321\n",
      "Epoch 21/50\n",
      "4/4 [==============================] - 0s 106ms/step - loss: 0.3946 - accuracy: 0.9688 - val_loss: 1.1311 - val_accuracy: 0.9326\n",
      "Epoch 22/50\n",
      "4/4 [==============================] - 0s 105ms/step - loss: 0.3278 - accuracy: 0.9723 - val_loss: 1.1180 - val_accuracy: 0.9336\n",
      "Epoch 23/50\n",
      "4/4 [==============================] - 0s 110ms/step - loss: 0.2971 - accuracy: 0.9757 - val_loss: 1.1042 - val_accuracy: 0.9339\n",
      "Epoch 24/50\n",
      "4/4 [==============================] - 0s 107ms/step - loss: 0.2834 - accuracy: 0.9768 - val_loss: 1.0902 - val_accuracy: 0.9338\n",
      "Epoch 25/50\n",
      "4/4 [==============================] - 0s 108ms/step - loss: 0.2550 - accuracy: 0.9791 - val_loss: 1.0747 - val_accuracy: 0.9338\n",
      "Epoch 26/50\n",
      "4/4 [==============================] - 0s 106ms/step - loss: 0.2219 - accuracy: 0.9805 - val_loss: 1.0706 - val_accuracy: 0.9338\n",
      "Epoch 27/50\n",
      "4/4 [==============================] - 0s 103ms/step - loss: 0.2031 - accuracy: 0.9822 - val_loss: 1.0603 - val_accuracy: 0.9336\n",
      "Epoch 28/50\n",
      "4/4 [==============================] - 0s 105ms/step - loss: 0.1744 - accuracy: 0.9841 - val_loss: 1.0529 - val_accuracy: 0.9349\n",
      "Epoch 29/50\n",
      "4/4 [==============================] - 0s 105ms/step - loss: 0.1589 - accuracy: 0.9860 - val_loss: 1.0453 - val_accuracy: 0.9349\n",
      "Epoch 30/50\n",
      "4/4 [==============================] - 0s 109ms/step - loss: 0.1370 - accuracy: 0.9874 - val_loss: 1.0405 - val_accuracy: 0.9350\n",
      "Epoch 31/50\n",
      "4/4 [==============================] - 0s 108ms/step - loss: 0.1306 - accuracy: 0.9882 - val_loss: 1.0360 - val_accuracy: 0.9339\n",
      "Epoch 32/50\n",
      "4/4 [==============================] - 0s 103ms/step - loss: 0.1185 - accuracy: 0.9890 - val_loss: 1.0335 - val_accuracy: 0.9338\n",
      "Epoch 33/50\n",
      "4/4 [==============================] - 0s 107ms/step - loss: 0.0965 - accuracy: 0.9905 - val_loss: 1.0278 - val_accuracy: 0.9344\n",
      "Epoch 34/50\n",
      "4/4 [==============================] - 0s 103ms/step - loss: 0.0903 - accuracy: 0.9914 - val_loss: 1.0226 - val_accuracy: 0.9338\n",
      "Epoch 35/50\n",
      "4/4 [==============================] - 0s 112ms/step - loss: 0.0732 - accuracy: 0.9929 - val_loss: 1.0174 - val_accuracy: 0.9345\n",
      "Epoch 36/50\n",
      "4/4 [==============================] - 0s 106ms/step - loss: 0.0701 - accuracy: 0.9938 - val_loss: 1.0165 - val_accuracy: 0.9339\n",
      "Epoch 37/50\n",
      "4/4 [==============================] - 0s 106ms/step - loss: 0.0585 - accuracy: 0.9947 - val_loss: 1.0106 - val_accuracy: 0.9339\n",
      "Epoch 38/50\n",
      "4/4 [==============================] - 0s 104ms/step - loss: 0.0576 - accuracy: 0.9953 - val_loss: 1.0109 - val_accuracy: 0.9338\n",
      "Epoch 39/50\n",
      "4/4 [==============================] - 0s 105ms/step - loss: 0.0573 - accuracy: 0.9955 - val_loss: 1.0083 - val_accuracy: 0.9338\n",
      "Epoch 40/50\n",
      "4/4 [==============================] - 0s 116ms/step - loss: 0.0454 - accuracy: 0.9963 - val_loss: 1.0084 - val_accuracy: 0.9342\n",
      "Epoch 41/50\n",
      "4/4 [==============================] - 0s 106ms/step - loss: 0.0452 - accuracy: 0.9964 - val_loss: 1.0050 - val_accuracy: 0.9348\n",
      "Epoch 42/50\n",
      "4/4 [==============================] - 0s 110ms/step - loss: 0.0330 - accuracy: 0.9972 - val_loss: 1.0052 - val_accuracy: 0.9349\n",
      "Epoch 43/50\n",
      "4/4 [==============================] - 0s 109ms/step - loss: 0.0317 - accuracy: 0.9971 - val_loss: 1.0033 - val_accuracy: 0.9351\n",
      "Epoch 44/50\n",
      "4/4 [==============================] - 0s 107ms/step - loss: 0.0255 - accuracy: 0.9978 - val_loss: 1.0026 - val_accuracy: 0.9345\n",
      "Epoch 45/50\n",
      "4/4 [==============================] - 0s 113ms/step - loss: 0.0237 - accuracy: 0.9980 - val_loss: 1.0019 - val_accuracy: 0.9348\n",
      "Epoch 46/50\n",
      "4/4 [==============================] - 0s 106ms/step - loss: 0.0236 - accuracy: 0.9981 - val_loss: 1.0015 - val_accuracy: 0.9345\n",
      "Epoch 47/50\n",
      "4/4 [==============================] - 0s 114ms/step - loss: 0.0209 - accuracy: 0.9982 - val_loss: 1.0013 - val_accuracy: 0.9348\n",
      "Epoch 48/50\n",
      "4/4 [==============================] - 0s 109ms/step - loss: 0.0179 - accuracy: 0.9986 - val_loss: 1.0003 - val_accuracy: 0.9350\n",
      "Epoch 49/50\n",
      "4/4 [==============================] - 0s 100ms/step - loss: 0.0124 - accuracy: 0.9987 - val_loss: 0.9985 - val_accuracy: 0.9352\n",
      "Epoch 50/50\n",
      "4/4 [==============================] - 0s 103ms/step - loss: 0.0112 - accuracy: 0.9989 - val_loss: 0.9983 - val_accuracy: 0.9354\n"
     ]
    },
    {
     "data": {
      "text/plain": [
       "<tensorflow.python.keras.callbacks.History at 0x7fafa7d92c10>"
      ]
     },
     "execution_count": 51,
     "metadata": {},
     "output_type": "execute_result"
    },
    {
     "name": "stdout",
     "output_type": "stream",
     "text": [
      "the running time for model fitting 20.721235990524292\n"
     ]
    }
   ],
   "source": [
    "\n",
    "model = keras.Sequential([\n",
    "    keras.layers.Dense(397, activation=\"relu\"), #hidden layer1\n",
    "    keras.layers.Dense(200, activation=\"relu\"), #hidden layer2\n",
    "    keras.layers.Dense(10, input_shape = (784,), activation = 'softmax')\n",
    "])\n",
    "\n",
    "model.compile(\n",
    "    optimizer = 'adam',\n",
    "    loss = 'sparse_categorical_crossentropy',\n",
    "    metrics = ['accuracy']\n",
    ")\n",
    "\n",
    "start=time.time()\n",
    "model.fit(x_train, y_train, validation_data = (x_test, y_test), \n",
    "          batch_size = 8400, \n",
    "          epochs = 50)\n",
    "end=time.time()\n",
    "print(\"the running time for model fitting\", end-start)"
   ]
  },
  {
   "cell_type": "code",
   "execution_count": 50,
   "id": "5dda2655",
   "metadata": {},
   "outputs": [
    {
     "name": "stdout",
     "output_type": "stream",
     "text": [
      "Model: \"sequential_5\"\n",
      "_________________________________________________________________\n",
      "Layer (type)                 Output Shape              Param #   \n",
      "=================================================================\n",
      "dense_15 (Dense)             (8400, 397)               311645    \n",
      "_________________________________________________________________\n",
      "dense_16 (Dense)             (8400, 200)               79600     \n",
      "_________________________________________________________________\n",
      "dense_17 (Dense)             (8400, 10)                2010      \n",
      "=================================================================\n",
      "Total params: 393,255\n",
      "Trainable params: 393,255\n",
      "Non-trainable params: 0\n",
      "_________________________________________________________________\n"
     ]
    }
   ],
   "source": [
    "model.summary()"
   ]
  },
  {
   "cell_type": "code",
   "execution_count": 43,
   "id": "327e9d35",
   "metadata": {},
   "outputs": [
    {
     "data": {
      "text/plain": [
       "array([9.4541298e-07, 1.4642775e-03, 8.5281765e-01, 9.9984241e-01,\n",
       "       1.0842459e-06, 2.8697270e-01, 5.7007557e-26, 3.5755903e-01,\n",
       "       8.1434190e-01, 3.8577038e-01], dtype=float32)"
      ]
     },
     "execution_count": 43,
     "metadata": {},
     "output_type": "execute_result"
    }
   ],
   "source": [
    "y_pred1 = model.predict(test)\n",
    "y_pred1[4] ## make prediction over test data"
   ]
  },
  {
   "cell_type": "code",
   "execution_count": 35,
   "id": "f69420ed",
   "metadata": {},
   "outputs": [
    {
     "data": {
      "text/plain": [
       "<matplotlib.image.AxesImage at 0x7faffa585520>"
      ]
     },
     "execution_count": 35,
     "metadata": {},
     "output_type": "execute_result"
    },
    {
     "data": {
      "image/png": "[encoded data removed]",
      "text/plain": [
       "<Figure size 432x288 with 1 Axes>"
      ]
     },
     "metadata": {
      "needs_background": "light"
     },
     "output_type": "display_data"
    }
   ],
   "source": [
    "#visualize test data to see if prediction is correct\n",
    "test1 = np.array(test, dtype = 'uint8')\n",
    "test_rs = test1[4].reshape((28,28))\n",
    "image = test_rs\n",
    "fig = plt.figure\n",
    "plt.imshow(image, cmap='gray')\n",
    "plt.show()"
   ]
  },
  {
   "cell_type": "code",
   "execution_count": 36,
   "id": "34ce8964",
   "metadata": {},
   "outputs": [
    {
     "data": {
      "text/plain": [
       "3"
      ]
     },
     "execution_count": 36,
     "metadata": {},
     "output_type": "execute_result"
    }
   ],
   "source": [
    "np.argmax(y_pred1[4])"
   ]
  },
  {
   "cell_type": "code",
   "execution_count": 45,
   "id": "16e82621",
   "metadata": {},
   "outputs": [],
   "source": [
    "#save prediction to csv for submission\n",
    "\n",
    "y_pred1 = np.argmax(y_pred1, axis =1)\n",
    "\n",
    "y_pred11 = pd.Series(y_pred1, name=\"Label\")\n",
    "\n",
    "pred1 = pd.concat([pd.Series(range(1,28001), name=\"ImageId\"), y_pred11], axis=1)\n",
    "pred1.to_csv('pred1.csv', index=False)\n",
    "\n",
    "## accuracy is 0.80585"
   ]
  },
  {
   "attachments": {
    "Screen%20Shot%202022-05-15%20at%204.52.06%20PM.png": {
     "image/png": "[encoded data removed]"
    }
   },
   "cell_type": "markdown",
   "id": "c3f58729",
   "metadata": {},
   "source": [
    "![Screen%20Shot%202022-05-15%20at%204.52.06%20PM.png](attachment:Screen%20Shot%202022-05-15%20at%204.52.06%20PM.png)"
   ]
  },
  {
   "cell_type": "markdown",
   "id": "46fe0673",
   "metadata": {},
   "source": [
    "#### 2. Neural Network with 5 hidden layers with nodes 397, 397, 200, 200, 100"
   ]
  },
  {
   "cell_type": "code",
   "execution_count": 61,
   "id": "6f74fcff",
   "metadata": {},
   "outputs": [
    {
     "name": "stdout",
     "output_type": "stream",
     "text": [
      "Epoch 1/100\n",
      "160/160 [==============================] - 2s 7ms/step - loss: 6.1066 - accuracy: 0.6260 - val_loss: 0.3564 - val_accuracy: 0.9024\n",
      "Epoch 2/100\n",
      "160/160 [==============================] - 1s 5ms/step - loss: 0.2766 - accuracy: 0.9229 - val_loss: 0.2656 - val_accuracy: 0.9262\n",
      "Epoch 3/100\n",
      "160/160 [==============================] - 1s 5ms/step - loss: 0.1700 - accuracy: 0.9490 - val_loss: 0.2259 - val_accuracy: 0.9365\n",
      "Epoch 4/100\n",
      "160/160 [==============================] - 1s 5ms/step - loss: 0.1098 - accuracy: 0.9666 - val_loss: 0.2099 - val_accuracy: 0.9432\n",
      "Epoch 5/100\n",
      "160/160 [==============================] - 1s 5ms/step - loss: 0.0758 - accuracy: 0.9760 - val_loss: 0.2254 - val_accuracy: 0.9433\n",
      "Epoch 6/100\n",
      "160/160 [==============================] - 1s 5ms/step - loss: 0.0630 - accuracy: 0.9799 - val_loss: 0.1942 - val_accuracy: 0.9527\n",
      "Epoch 7/100\n",
      "160/160 [==============================] - 1s 5ms/step - loss: 0.0509 - accuracy: 0.9847 - val_loss: 0.1924 - val_accuracy: 0.9507\n",
      "Epoch 8/100\n",
      "160/160 [==============================] - 1s 5ms/step - loss: 0.0343 - accuracy: 0.9883 - val_loss: 0.1757 - val_accuracy: 0.9587\n",
      "Epoch 9/100\n",
      "160/160 [==============================] - 1s 5ms/step - loss: 0.0367 - accuracy: 0.9881 - val_loss: 0.1746 - val_accuracy: 0.9606\n",
      "Epoch 10/100\n",
      "160/160 [==============================] - 1s 5ms/step - loss: 0.0396 - accuracy: 0.9880 - val_loss: 0.1868 - val_accuracy: 0.9570\n",
      "Epoch 11/100\n",
      "160/160 [==============================] - 1s 5ms/step - loss: 0.0483 - accuracy: 0.9859 - val_loss: 0.1942 - val_accuracy: 0.9586\n",
      "Epoch 12/100\n",
      "160/160 [==============================] - 1s 5ms/step - loss: 0.0418 - accuracy: 0.9875 - val_loss: 0.2119 - val_accuracy: 0.9538\n",
      "Epoch 13/100\n",
      "160/160 [==============================] - 1s 5ms/step - loss: 0.0374 - accuracy: 0.9871 - val_loss: 0.1894 - val_accuracy: 0.9598\n",
      "Epoch 14/100\n",
      "160/160 [==============================] - 1s 5ms/step - loss: 0.0320 - accuracy: 0.9900 - val_loss: 0.2220 - val_accuracy: 0.9581\n",
      "Epoch 15/100\n",
      "160/160 [==============================] - 1s 5ms/step - loss: 0.0373 - accuracy: 0.9883 - val_loss: 0.2334 - val_accuracy: 0.9542\n",
      "Epoch 16/100\n",
      "160/160 [==============================] - 1s 5ms/step - loss: 0.0372 - accuracy: 0.9879 - val_loss: 0.1942 - val_accuracy: 0.9645\n",
      "Epoch 17/100\n",
      "160/160 [==============================] - 1s 5ms/step - loss: 0.0268 - accuracy: 0.9914 - val_loss: 0.1916 - val_accuracy: 0.9630\n",
      "Epoch 18/100\n",
      "160/160 [==============================] - 1s 5ms/step - loss: 0.0248 - accuracy: 0.9918 - val_loss: 0.2006 - val_accuracy: 0.9599\n",
      "Epoch 19/100\n",
      "160/160 [==============================] - 1s 5ms/step - loss: 0.0231 - accuracy: 0.9935 - val_loss: 0.2062 - val_accuracy: 0.9614\n",
      "Epoch 20/100\n",
      "160/160 [==============================] - 1s 4ms/step - loss: 0.0339 - accuracy: 0.9904 - val_loss: 0.1745 - val_accuracy: 0.9660\n",
      "Epoch 21/100\n",
      "160/160 [==============================] - 1s 5ms/step - loss: 0.0341 - accuracy: 0.9902 - val_loss: 0.1873 - val_accuracy: 0.9639\n",
      "Epoch 22/100\n",
      "160/160 [==============================] - 1s 5ms/step - loss: 0.0262 - accuracy: 0.9917 - val_loss: 0.1987 - val_accuracy: 0.9617\n",
      "Epoch 23/100\n",
      "160/160 [==============================] - 1s 4ms/step - loss: 0.0374 - accuracy: 0.9894 - val_loss: 0.2083 - val_accuracy: 0.9640\n",
      "Epoch 24/100\n",
      "160/160 [==============================] - 1s 4ms/step - loss: 0.0488 - accuracy: 0.9854 - val_loss: 0.1857 - val_accuracy: 0.9644\n",
      "Epoch 25/100\n",
      "160/160 [==============================] - 1s 5ms/step - loss: 0.0222 - accuracy: 0.9933 - val_loss: 0.1731 - val_accuracy: 0.9690\n",
      "Epoch 26/100\n",
      "160/160 [==============================] - 1s 5ms/step - loss: 0.0232 - accuracy: 0.9925 - val_loss: 0.1849 - val_accuracy: 0.9664\n",
      "Epoch 27/100\n",
      "160/160 [==============================] - 1s 5ms/step - loss: 0.0245 - accuracy: 0.9919 - val_loss: 0.1780 - val_accuracy: 0.9688\n",
      "Epoch 28/100\n",
      "160/160 [==============================] - 1s 5ms/step - loss: 0.0152 - accuracy: 0.9955 - val_loss: 0.2010 - val_accuracy: 0.9665\n",
      "Epoch 29/100\n",
      "160/160 [==============================] - 1s 4ms/step - loss: 0.0239 - accuracy: 0.9935 - val_loss: 0.1803 - val_accuracy: 0.9665\n",
      "Epoch 30/100\n",
      "160/160 [==============================] - 1s 5ms/step - loss: 0.0310 - accuracy: 0.9916 - val_loss: 0.1751 - val_accuracy: 0.9693\n",
      "Epoch 31/100\n",
      "160/160 [==============================] - 1s 5ms/step - loss: 0.0214 - accuracy: 0.9935 - val_loss: 0.1722 - val_accuracy: 0.9679\n",
      "Epoch 32/100\n",
      "160/160 [==============================] - 1s 5ms/step - loss: 0.0274 - accuracy: 0.9922 - val_loss: 0.1766 - val_accuracy: 0.9669\n",
      "Epoch 33/100\n",
      "160/160 [==============================] - 1s 5ms/step - loss: 0.0207 - accuracy: 0.9942 - val_loss: 0.1722 - val_accuracy: 0.9702\n",
      "Epoch 34/100\n",
      "160/160 [==============================] - 1s 5ms/step - loss: 0.0175 - accuracy: 0.9946 - val_loss: 0.1819 - val_accuracy: 0.9692\n",
      "Epoch 35/100\n",
      "160/160 [==============================] - 1s 5ms/step - loss: 0.0172 - accuracy: 0.9950 - val_loss: 0.1780 - val_accuracy: 0.9700\n",
      "Epoch 36/100\n",
      "160/160 [==============================] - 1s 5ms/step - loss: 0.0172 - accuracy: 0.9945 - val_loss: 0.1753 - val_accuracy: 0.9707\n",
      "Epoch 37/100\n",
      "160/160 [==============================] - 1s 5ms/step - loss: 0.0127 - accuracy: 0.9960 - val_loss: 0.1871 - val_accuracy: 0.9704\n",
      "Epoch 38/100\n",
      "160/160 [==============================] - 1s 5ms/step - loss: 0.0246 - accuracy: 0.9929 - val_loss: 0.1987 - val_accuracy: 0.9686\n",
      "Epoch 39/100\n",
      "160/160 [==============================] - 1s 5ms/step - loss: 0.0199 - accuracy: 0.9939 - val_loss: 0.1921 - val_accuracy: 0.9704\n",
      "Epoch 40/100\n",
      "160/160 [==============================] - 1s 5ms/step - loss: 0.0157 - accuracy: 0.9952 - val_loss: 0.1718 - val_accuracy: 0.9712\n",
      "Epoch 41/100\n",
      "160/160 [==============================] - 1s 5ms/step - loss: 0.0116 - accuracy: 0.9965 - val_loss: 0.1820 - val_accuracy: 0.9729\n",
      "Epoch 42/100\n",
      "160/160 [==============================] - 1s 5ms/step - loss: 0.0179 - accuracy: 0.9963 - val_loss: 0.1688 - val_accuracy: 0.9701\n",
      "Epoch 43/100\n",
      "160/160 [==============================] - 1s 5ms/step - loss: 0.0177 - accuracy: 0.9955 - val_loss: 0.1663 - val_accuracy: 0.9701\n",
      "Epoch 44/100\n",
      "160/160 [==============================] - 1s 5ms/step - loss: 0.0098 - accuracy: 0.9970 - val_loss: 0.1761 - val_accuracy: 0.9714\n",
      "Epoch 45/100\n",
      "160/160 [==============================] - 1s 5ms/step - loss: 0.0121 - accuracy: 0.9968 - val_loss: 0.1622 - val_accuracy: 0.9730\n",
      "Epoch 46/100\n",
      "160/160 [==============================] - 1s 5ms/step - loss: 0.0140 - accuracy: 0.9964 - val_loss: 0.2790 - val_accuracy: 0.9552\n",
      "Epoch 47/100\n",
      "160/160 [==============================] - 1s 5ms/step - loss: 0.0310 - accuracy: 0.9917 - val_loss: 0.1463 - val_accuracy: 0.9740\n",
      "Epoch 48/100\n",
      "160/160 [==============================] - 1s 5ms/step - loss: 0.0120 - accuracy: 0.9968 - val_loss: 0.1552 - val_accuracy: 0.9725\n",
      "Epoch 49/100\n",
      "160/160 [==============================] - 1s 5ms/step - loss: 0.0119 - accuracy: 0.9966 - val_loss: 0.1729 - val_accuracy: 0.9706\n",
      "Epoch 50/100\n",
      "160/160 [==============================] - 1s 5ms/step - loss: 0.0144 - accuracy: 0.9958 - val_loss: 0.1742 - val_accuracy: 0.9724\n",
      "Epoch 51/100\n",
      "160/160 [==============================] - 1s 5ms/step - loss: 0.0119 - accuracy: 0.9966 - val_loss: 0.1739 - val_accuracy: 0.9701\n",
      "Epoch 52/100\n",
      "160/160 [==============================] - 1s 5ms/step - loss: 0.0142 - accuracy: 0.9960 - val_loss: 0.1608 - val_accuracy: 0.9719\n",
      "Epoch 53/100\n",
      "160/160 [==============================] - 1s 5ms/step - loss: 0.0093 - accuracy: 0.9973 - val_loss: 0.1667 - val_accuracy: 0.9733\n",
      "Epoch 54/100\n",
      "160/160 [==============================] - 1s 6ms/step - loss: 0.0074 - accuracy: 0.9978 - val_loss: 0.1903 - val_accuracy: 0.9710\n",
      "Epoch 55/100\n",
      "160/160 [==============================] - 1s 6ms/step - loss: 0.0138 - accuracy: 0.9962 - val_loss: 0.1679 - val_accuracy: 0.9733\n",
      "Epoch 56/100\n",
      "160/160 [==============================] - 1s 5ms/step - loss: 0.0060 - accuracy: 0.9983 - val_loss: 0.1773 - val_accuracy: 0.9737\n",
      "Epoch 57/100\n",
      "160/160 [==============================] - 1s 6ms/step - loss: 0.0156 - accuracy: 0.9963 - val_loss: 0.1671 - val_accuracy: 0.9737\n"
     ]
    },
    {
     "name": "stdout",
     "output_type": "stream",
     "text": [
      "Epoch 58/100\n",
      "160/160 [==============================] - 1s 7ms/step - loss: 0.0147 - accuracy: 0.9960 - val_loss: 0.1617 - val_accuracy: 0.9742\n",
      "Epoch 59/100\n",
      "160/160 [==============================] - 1s 6ms/step - loss: 0.0049 - accuracy: 0.9985 - val_loss: 0.1750 - val_accuracy: 0.9757\n",
      "Epoch 60/100\n",
      "160/160 [==============================] - 1s 5ms/step - loss: 0.0084 - accuracy: 0.9974 - val_loss: 0.1793 - val_accuracy: 0.9721\n",
      "Epoch 61/100\n",
      "160/160 [==============================] - 1s 6ms/step - loss: 0.0229 - accuracy: 0.9947 - val_loss: 0.1709 - val_accuracy: 0.9680\n",
      "Epoch 62/100\n",
      "160/160 [==============================] - 1s 6ms/step - loss: 0.0165 - accuracy: 0.9951 - val_loss: 0.1750 - val_accuracy: 0.9710\n",
      "Epoch 63/100\n",
      "160/160 [==============================] - 1s 5ms/step - loss: 0.0093 - accuracy: 0.9973 - val_loss: 0.1811 - val_accuracy: 0.9720\n",
      "Epoch 64/100\n",
      "160/160 [==============================] - 1s 5ms/step - loss: 0.0108 - accuracy: 0.9973 - val_loss: 0.1539 - val_accuracy: 0.9746\n",
      "Epoch 65/100\n",
      "160/160 [==============================] - 1s 5ms/step - loss: 0.0072 - accuracy: 0.9981 - val_loss: 0.1569 - val_accuracy: 0.9758\n",
      "Epoch 66/100\n",
      "160/160 [==============================] - 1s 5ms/step - loss: 0.0084 - accuracy: 0.9978 - val_loss: 0.1460 - val_accuracy: 0.9767\n",
      "Epoch 67/100\n",
      "160/160 [==============================] - 1s 5ms/step - loss: 0.0116 - accuracy: 0.9974 - val_loss: 0.1633 - val_accuracy: 0.9731\n",
      "Epoch 68/100\n",
      "160/160 [==============================] - 1s 5ms/step - loss: 0.0048 - accuracy: 0.9988 - val_loss: 0.1913 - val_accuracy: 0.9731\n",
      "Epoch 69/100\n",
      "160/160 [==============================] - 1s 5ms/step - loss: 0.0067 - accuracy: 0.9985 - val_loss: 0.1698 - val_accuracy: 0.9756\n",
      "Epoch 70/100\n",
      "160/160 [==============================] - 1s 5ms/step - loss: 0.0042 - accuracy: 0.9988 - val_loss: 0.2097 - val_accuracy: 0.9718\n",
      "Epoch 71/100\n",
      "160/160 [==============================] - 1s 5ms/step - loss: 0.0169 - accuracy: 0.9957 - val_loss: 0.1854 - val_accuracy: 0.9707\n",
      "Epoch 72/100\n",
      "160/160 [==============================] - 1s 5ms/step - loss: 0.0100 - accuracy: 0.9975 - val_loss: 0.1887 - val_accuracy: 0.9707\n",
      "Epoch 73/100\n",
      "160/160 [==============================] - 1s 4ms/step - loss: 0.0057 - accuracy: 0.9982 - val_loss: 0.1631 - val_accuracy: 0.9751\n",
      "Epoch 74/100\n",
      "160/160 [==============================] - 1s 5ms/step - loss: 0.0145 - accuracy: 0.9962 - val_loss: 0.1833 - val_accuracy: 0.9727\n",
      "Epoch 75/100\n",
      "160/160 [==============================] - 1s 5ms/step - loss: 0.0080 - accuracy: 0.9978 - val_loss: 0.1861 - val_accuracy: 0.9723\n",
      "Epoch 76/100\n",
      "160/160 [==============================] - 1s 4ms/step - loss: 0.0062 - accuracy: 0.9982 - val_loss: 0.1792 - val_accuracy: 0.9743\n",
      "Epoch 77/100\n",
      "160/160 [==============================] - 1s 5ms/step - loss: 0.0098 - accuracy: 0.9972 - val_loss: 0.1953 - val_accuracy: 0.9729\n",
      "Epoch 78/100\n",
      "160/160 [==============================] - 1s 5ms/step - loss: 0.0066 - accuracy: 0.9986 - val_loss: 0.2019 - val_accuracy: 0.9744\n",
      "Epoch 79/100\n",
      "160/160 [==============================] - 1s 5ms/step - loss: 0.0073 - accuracy: 0.9979 - val_loss: 0.2161 - val_accuracy: 0.9702\n",
      "Epoch 80/100\n",
      "160/160 [==============================] - 1s 4ms/step - loss: 0.0075 - accuracy: 0.9980 - val_loss: 0.1853 - val_accuracy: 0.9749\n",
      "Epoch 81/100\n",
      "160/160 [==============================] - 1s 5ms/step - loss: 0.0040 - accuracy: 0.9989 - val_loss: 0.2149 - val_accuracy: 0.9708\n",
      "Epoch 82/100\n",
      "160/160 [==============================] - 1s 5ms/step - loss: 0.0119 - accuracy: 0.9967 - val_loss: 0.2168 - val_accuracy: 0.9698\n",
      "Epoch 83/100\n",
      "160/160 [==============================] - 1s 5ms/step - loss: 0.0112 - accuracy: 0.9968 - val_loss: 0.1644 - val_accuracy: 0.9740\n",
      "Epoch 84/100\n",
      "160/160 [==============================] - 1s 5ms/step - loss: 0.0048 - accuracy: 0.9988 - val_loss: 0.1760 - val_accuracy: 0.9745\n",
      "Epoch 85/100\n",
      "160/160 [==============================] - 1s 5ms/step - loss: 0.0087 - accuracy: 0.9979 - val_loss: 0.1739 - val_accuracy: 0.9756\n",
      "Epoch 86/100\n",
      "160/160 [==============================] - 1s 5ms/step - loss: 0.0030 - accuracy: 0.9992 - val_loss: 0.1780 - val_accuracy: 0.9738\n",
      "Epoch 87/100\n",
      "160/160 [==============================] - 1s 5ms/step - loss: 0.0155 - accuracy: 0.9965 - val_loss: 0.1624 - val_accuracy: 0.9750\n",
      "Epoch 88/100\n",
      "160/160 [==============================] - 1s 5ms/step - loss: 0.0079 - accuracy: 0.9981 - val_loss: 0.1637 - val_accuracy: 0.9760\n",
      "Epoch 89/100\n",
      "160/160 [==============================] - 1s 5ms/step - loss: 0.0044 - accuracy: 0.9988 - val_loss: 0.1739 - val_accuracy: 0.9740\n",
      "Epoch 90/100\n",
      "160/160 [==============================] - 1s 5ms/step - loss: 0.0082 - accuracy: 0.9981 - val_loss: 0.1797 - val_accuracy: 0.9768\n",
      "Epoch 91/100\n",
      "160/160 [==============================] - 1s 5ms/step - loss: 0.0076 - accuracy: 0.9976 - val_loss: 0.1909 - val_accuracy: 0.9748\n",
      "Epoch 92/100\n",
      "160/160 [==============================] - 1s 5ms/step - loss: 0.0060 - accuracy: 0.9980 - val_loss: 0.1809 - val_accuracy: 0.9752\n",
      "Epoch 93/100\n",
      "160/160 [==============================] - 1s 5ms/step - loss: 0.0025 - accuracy: 0.9993 - val_loss: 0.1650 - val_accuracy: 0.9764\n",
      "Epoch 94/100\n",
      "160/160 [==============================] - 1s 5ms/step - loss: 0.0042 - accuracy: 0.9989 - val_loss: 0.1648 - val_accuracy: 0.9787\n",
      "Epoch 95/100\n",
      "160/160 [==============================] - 1s 5ms/step - loss: 0.0023 - accuracy: 0.9995 - val_loss: 0.1836 - val_accuracy: 0.9771\n",
      "Epoch 96/100\n",
      "160/160 [==============================] - 1s 5ms/step - loss: 0.0030 - accuracy: 0.9992 - val_loss: 0.1991 - val_accuracy: 0.9757\n",
      "Epoch 97/100\n",
      "160/160 [==============================] - 1s 5ms/step - loss: 0.0088 - accuracy: 0.9977 - val_loss: 0.1925 - val_accuracy: 0.9733\n",
      "Epoch 98/100\n",
      "160/160 [==============================] - 1s 5ms/step - loss: 0.0088 - accuracy: 0.9981 - val_loss: 0.1946 - val_accuracy: 0.9739\n",
      "Epoch 99/100\n",
      "160/160 [==============================] - 1s 5ms/step - loss: 0.0049 - accuracy: 0.9989 - val_loss: 0.1745 - val_accuracy: 0.9754\n",
      "Epoch 100/100\n",
      "160/160 [==============================] - 1s 5ms/step - loss: 0.0021 - accuracy: 0.9994 - val_loss: 0.2178 - val_accuracy: 0.9724\n"
     ]
    },
    {
     "data": {
      "text/plain": [
       "<tensorflow.python.keras.callbacks.History at 0x7faf78c71e80>"
      ]
     },
     "execution_count": 61,
     "metadata": {},
     "output_type": "execute_result"
    },
    {
     "name": "stdout",
     "output_type": "stream",
     "text": [
      "the running time for model fitting 79.87720108032227\n"
     ]
    }
   ],
   "source": [
    "model = keras.Sequential([\n",
    "    keras.layers.Dense(397, activation=\"relu\"), #hidden layer1\n",
    "    keras.layers.Dense(200, activation=\"relu\"), #hidden layer2\n",
    "    keras.layers.Dense(100, activation=\"relu\"), #hidden layer3\n",
    "    keras.layers.Dense(50, activation=\"relu\"), #hidden layer4\n",
    "    keras.layers.Dense(25, activation=\"relu\"), #hidden layer5\n",
    "    keras.layers.Dense(10, input_shape = (784,), activation = 'softmax')\n",
    "])\n",
    "\n",
    "tensorboard_callback = tf.keras.callbacks.TensorBoard(log_dir=\"./logs\")\n",
    "\n",
    "model.compile(\n",
    "    optimizer = 'adam',\n",
    "    loss = 'sparse_categorical_crossentropy',\n",
    "    metrics = ['accuracy']\n",
    ")\n",
    "\n",
    "start=time.time()\n",
    "model.fit(x_train, y_train, validation_data = (x_test, y_test), \n",
    "          batch_size = 210, \n",
    "          epochs = 100,\n",
    "         callbacks=[tensorboard_callback])\n",
    "end=time.time()\n",
    "print(\"the running time for model fitting\", end-start)"
   ]
  },
  {
   "cell_type": "code",
   "execution_count": 55,
   "id": "dbd802df",
   "metadata": {},
   "outputs": [],
   "source": [
    "y_pred2 = model.predict(test)"
   ]
  },
  {
   "cell_type": "code",
   "execution_count": 56,
   "id": "7b210b3f",
   "metadata": {},
   "outputs": [],
   "source": [
    "#save prediction to csv for submission\n",
    "\n",
    "y_pred2 = np.argmax(y_pred2, axis =1)\n",
    "\n",
    "y_pred21 = pd.Series(y_pred2, name=\"Label\")\n",
    "\n",
    "pred2 = pd.concat([pd.Series(range(1,28001), name=\"ImageId\"), y_pred21], axis=1)\n",
    "pred2.to_csv('pred2.csv', index=False)\n",
    "## accuracy increase to 0.97546"
   ]
  },
  {
   "attachments": {
    "Screen%20Shot%202022-05-15%20at%205.34.32%20PM.png": {
     "image/png": "[encoded data removed]"
    }
   },
   "cell_type": "markdown",
   "id": "3c12c862",
   "metadata": {},
   "source": [
    "![Screen%20Shot%202022-05-15%20at%205.34.32%20PM.png](attachment:Screen%20Shot%202022-05-15%20at%205.34.32%20PM.png)"
   ]
  },
  {
   "cell_type": "code",
   "execution_count": 63,
   "id": "aa44f0fa",
   "metadata": {},
   "outputs": [
    {
     "name": "stdout",
     "output_type": "stream",
     "text": [
      "The tensorboard extension is already loaded. To reload it, use:\n",
      "  %reload_ext tensorboard\n"
     ]
    },
    {
     "data": {
      "text/plain": [
       "Reusing TensorBoard on port 6006 (pid 24335), started 0:06:32 ago. (Use '!kill 24335' to kill it.)"
      ]
     },
     "metadata": {},
     "output_type": "display_data"
    },
    {
     "data": {
      "text/html": [
       "\n",
       "      <iframe id=\"tensorboard-frame-f0877b40a1fd0134\" width=\"100%\" height=\"800\" frameborder=\"0\">\n",
       "      </iframe>\n",
       "      <script>\n",
       "        (function() {\n",
       "          const frame = document.getElementById(\"tensorboard-frame-f0877b40a1fd0134\");\n",
       "          const url = new URL(\"/\", window.location);\n",
       "          const port = 6006;\n",
       "          if (port) {\n",
       "            url.port = port;\n",
       "          }\n",
       "          frame.src = url;\n",
       "        })();\n",
       "      </script>\n",
       "    "
      ],
      "text/plain": [
       "<IPython.core.display.HTML object>"
      ]
     },
     "metadata": {},
     "output_type": "display_data"
    }
   ],
   "source": [
    "%load_ext tensorboard\n",
    "%tensorboard --logdir logs"
   ]
  },
  {
   "cell_type": "markdown",
   "id": "1dcea1ae",
   "metadata": {},
   "source": [
    "#### Confusion Matrix over validation set"
   ]
  },
  {
   "cell_type": "code",
   "execution_count": 68,
   "id": "856dcb6f",
   "metadata": {},
   "outputs": [
    {
     "data": {
      "text/plain": [
       "array([8, 1, 9, ..., 3, 0, 9])"
      ]
     },
     "execution_count": 68,
     "metadata": {},
     "output_type": "execute_result"
    }
   ],
   "source": [
    "test_y = np.argmax(model.predict(x_test), axis = -1)\n",
    "test_y"
   ]
  },
  {
   "cell_type": "code",
   "execution_count": 70,
   "id": "52477434",
   "metadata": {},
   "outputs": [
    {
     "data": {
      "text/plain": [
       "array([[807,   0,   0,   0,   1,   2,   2,   1,   1,   2],\n",
       "       [  0, 901,   1,   0,   1,   0,   1,   1,   4,   0],\n",
       "       [  1,   3, 806,   6,   7,   1,   0,   4,  16,   2],\n",
       "       [  0,   1,   1, 900,   0,  10,   0,   4,  16,   5],\n",
       "       [  2,   0,   0,   0, 808,   0,   4,   2,   2,  21],\n",
       "       [  0,   1,   1,  11,   1, 678,   2,   0,   4,   4],\n",
       "       [  3,   1,   2,   1,   0,   3, 770,   0,   5,   0],\n",
       "       [  1,   1,   7,   0,   1,   1,   0, 855,   2,  25],\n",
       "       [  1,   1,   2,   2,   2,   5,   0,   1, 819,   2],\n",
       "       [  0,   0,   1,   4,   2,   3,   0,   2,   2, 824]])"
      ]
     },
     "execution_count": 70,
     "metadata": {},
     "output_type": "execute_result"
    }
   ],
   "source": [
    "from sklearn import metrics\n",
    "confusion_matrix = metrics.confusion_matrix(y_test, test_y)\n",
    "confusion_matrix"
   ]
  },
  {
   "cell_type": "code",
   "execution_count": null,
   "id": "6e1a03ac",
   "metadata": {},
   "outputs": [],
   "source": []
  }
 ],
 "metadata": {
  "kernelspec": {
   "display_name": "Python 3",
   "language": "python",
   "name": "python3"
  },
  "language_info": {
   "codemirror_mode": {
    "name": "ipython",
    "version": 3
   },
   "file_extension": ".py",
   "mimetype": "text/x-python",
   "name": "python",
   "nbconvert_exporter": "python",
   "pygments_lexer": "ipython3",
   "version": "3.8.8"
  }
 },
 "nbformat": 4,
 "nbformat_minor": 5
}
