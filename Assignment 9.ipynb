{
 "cells": [
  {
   "cell_type": "markdown",
   "id": "c39361c4",
   "metadata": {},
   "source": [
    "## Assignment 9 NLP-- Disaster in Tweets"
   ]
  },
  {
   "cell_type": "code",
   "execution_count": 1,
   "id": "2b3e14a7",
   "metadata": {},
   "outputs": [],
   "source": [
    "import numpy as np\n",
    "import pandas as pd\n",
    "import tensorflow as tf\n",
    "import re\n",
    "\n",
    "import matplotlib.pyplot as plt\n",
    "\n",
    "import tensorflow as tf\n",
    "from tensorflow import keras\n",
    "from tensorflow.keras.models import Sequential\n",
    "from tensorflow.keras.callbacks import TensorBoard\n",
    "from tensorflow.keras.layers import Dense, Flatten, Activation, Dropout,Conv2D, MaxPooling2D\n",
    "from sklearn.model_selection import train_test_split\n",
    "from IPython.core.interactiveshell import InteractiveShell \n",
    "InteractiveShell.ast_node_interactivity = \"all\"\n"
   ]
  },
  {
   "cell_type": "markdown",
   "id": "fb84c245",
   "metadata": {},
   "source": [
    "#### Ingest"
   ]
  },
  {
   "cell_type": "code",
   "execution_count": 2,
   "id": "c88777e2",
   "metadata": {},
   "outputs": [
    {
     "data": {
      "text/plain": [
       "(7613, 3)"
      ]
     },
     "execution_count": 2,
     "metadata": {},
     "output_type": "execute_result"
    },
    {
     "data": {
      "text/plain": [
       "(3263, 2)"
      ]
     },
     "execution_count": 2,
     "metadata": {},
     "output_type": "execute_result"
    }
   ],
   "source": [
    "train = pd.read_csv('train.csv', usecols = ['id', 'text', 'target'])\n",
    "train.shape\n",
    "test = pd.read_csv('test.csv', usecols = ['id', 'text'])\n",
    "test.shape"
   ]
  },
  {
   "cell_type": "code",
   "execution_count": 3,
   "id": "93d9f69b",
   "metadata": {},
   "outputs": [
    {
     "data": {
      "text/plain": [
       "0    4342\n",
       "1    3271\n",
       "Name: target, dtype: int64"
      ]
     },
     "execution_count": 3,
     "metadata": {},
     "output_type": "execute_result"
    }
   ],
   "source": [
    "train['target'].value_counts()"
   ]
  },
  {
   "cell_type": "markdown",
   "id": "d888ed0e",
   "metadata": {},
   "source": [
    "#### Data Preprocessing"
   ]
  },
  {
   "cell_type": "code",
   "execution_count": 4,
   "id": "5811fb62",
   "metadata": {},
   "outputs": [
    {
     "data": {
      "text/plain": [
       "22701"
      ]
     },
     "execution_count": 4,
     "metadata": {},
     "output_type": "execute_result"
    },
    {
     "name": "stdout",
     "output_type": "stream",
     "text": [
      "[[ 1  1 25 ...  0  0  0]\n",
      " [ 1 46  1 ...  0  0  0]\n",
      " [41  1  1 ...  0  0  0]\n",
      " ...\n",
      " [ 1  1  1 ...  0  0  0]\n",
      " [79  1 42 ...  0  0  0]\n",
      " [ 5  1 55 ...  0  0  0]]\n"
     ]
    }
   ],
   "source": [
    "#Tokenize text\n",
    "from tensorflow.keras.preprocessing.text import Tokenizer\n",
    "from tensorflow.keras.preprocessing.sequence import pad_sequences\n",
    "\n",
    "#num_words = 100\n",
    "#oov_t = ''\n",
    "pad_type = 'post'\n",
    "trunc_type = 'post'\n",
    "\n",
    "tokenizer = Tokenizer(num_words = 100, oov_token = '<OOV>')\n",
    "tokenizer.fit_on_texts(train['text'])\n",
    "word_index = tokenizer.word_index\n",
    "len(word_index)\n",
    "sequence1 = tokenizer.texts_to_sequences(train['text'])\n",
    "pad1 = pad_sequences(sequence1, padding = 'post') #value = -1?\n",
    "print(pad1)\n",
    "#print(word_index)"
   ]
  },
  {
   "cell_type": "markdown",
   "id": "86cb1ee1",
   "metadata": {},
   "source": [
    "Test Data Preprocessing"
   ]
  },
  {
   "cell_type": "code",
   "execution_count": 5,
   "id": "8609bea7",
   "metadata": {},
   "outputs": [
    {
     "data": {
      "text/plain": [
       "12819"
      ]
     },
     "execution_count": 5,
     "metadata": {},
     "output_type": "execute_result"
    },
    {
     "name": "stdout",
     "output_type": "stream",
     "text": [
      "[[35  1  6 ...  0  0  0]\n",
      " [ 1 54  1 ...  0  0  0]\n",
      " [76 12  6 ...  0  0  0]\n",
      " ...\n",
      " [ 1  1  1 ...  0  0  0]\n",
      " [ 1  1  1 ...  0  0  0]\n",
      " [ 1 59  1 ...  0  0  0]]\n"
     ]
    }
   ],
   "source": [
    "tokenizer = Tokenizer(num_words = 100, oov_token = '<OOV>')\n",
    "tokenizer.fit_on_texts(test['text'])\n",
    "word_index_t = tokenizer.word_index\n",
    "len(word_index_t)\n",
    "sequence2 = tokenizer.texts_to_sequences(test['text'])\n",
    "pad2 = pad_sequences(sequence2, padding = 'post') #value = -1?\n",
    "print(pad2)\n",
    "#print(word_index_t)"
   ]
  },
  {
   "cell_type": "code",
   "execution_count": 6,
   "id": "f85612b6",
   "metadata": {},
   "outputs": [
    {
     "data": {
      "text/plain": [
       "array([ 1,  1, 25,  5,  1,  9, 22,  1,  1,  1,  1, 90, 41,  0,  0,  0,  0,\n",
       "        0,  0,  0,  0,  0,  0,  0,  0,  0,  0,  0,  0,  0,  0,  0,  0],\n",
       "      dtype=int32)"
      ]
     },
     "execution_count": 6,
     "metadata": {},
     "output_type": "execute_result"
    }
   ],
   "source": [
    "pad1[0]"
   ]
  },
  {
   "cell_type": "code",
   "execution_count": 45,
   "id": "f77f757f",
   "metadata": {},
   "outputs": [],
   "source": [
    "X_train, X_test, y_train, y_test = train_test_split(pad1, train['target'], train_size = 0.8, random_state=42)"
   ]
  },
  {
   "cell_type": "code",
   "execution_count": 46,
   "id": "37e27e31",
   "metadata": {},
   "outputs": [
    {
     "data": {
      "text/plain": [
       "6090"
      ]
     },
     "execution_count": 46,
     "metadata": {},
     "output_type": "execute_result"
    }
   ],
   "source": [
    "len(X_train)"
   ]
  },
  {
   "cell_type": "markdown",
   "id": "3f221985",
   "metadata": {},
   "source": [
    "#### Model-- RNN 1"
   ]
  },
  {
   "cell_type": "code",
   "execution_count": 57,
   "id": "2f58e352",
   "metadata": {},
   "outputs": [
    {
     "name": "stdout",
     "output_type": "stream",
     "text": [
      "Epoch 1/30\n",
      "191/191 [==============================] - 19s 84ms/step - loss: 0.6821 - accuracy: 0.5526 - precision: 0.4427 - recall: 0.1975 - val_loss: 0.6508 - val_accuracy: 0.6297 - val_precision: 0.5601 - val_recall: 0.6102\n",
      "Epoch 2/30\n",
      "191/191 [==============================] - 16s 86ms/step - loss: 0.6404 - accuracy: 0.6421 - precision: 0.5991 - recall: 0.4996 - val_loss: 0.6061 - val_accuracy: 0.6881 - val_precision: 0.6347 - val_recall: 0.6317\n",
      "Epoch 3/30\n",
      "191/191 [==============================] - 18s 95ms/step - loss: 0.5878 - accuracy: 0.6801 - precision: 0.6326 - recall: 0.6077 - val_loss: 0.5761 - val_accuracy: 0.7150 - val_precision: 0.6783 - val_recall: 0.6302\n",
      "Epoch 4/30\n",
      "191/191 [==============================] - 16s 85ms/step - loss: 0.5555 - accuracy: 0.7146 - precision: 0.6908 - recall: 0.6311 - val_loss: 0.5719 - val_accuracy: 0.7078 - val_precision: 0.7008 - val_recall: 0.5485\n",
      "Epoch 5/30\n",
      "191/191 [==============================] - 16s 81ms/step - loss: 0.5660 - accuracy: 0.7041 - precision: 0.6874 - recall: 0.5802 - val_loss: 0.5692 - val_accuracy: 0.7072 - val_precision: 0.7101 - val_recall: 0.5285\n",
      "Epoch 6/30\n",
      "191/191 [==============================] - 16s 82ms/step - loss: 0.5618 - accuracy: 0.7062 - precision: 0.6873 - recall: 0.5739 - val_loss: 0.5713 - val_accuracy: 0.7137 - val_precision: 0.6641 - val_recall: 0.6641\n",
      "Epoch 7/30\n",
      "191/191 [==============================] - 15s 80ms/step - loss: 0.5459 - accuracy: 0.7231 - precision: 0.7083 - recall: 0.6165 - val_loss: 0.5660 - val_accuracy: 0.7104 - val_precision: 0.6884 - val_recall: 0.5855\n",
      "Epoch 8/30\n",
      "191/191 [==============================] - 15s 80ms/step - loss: 0.5546 - accuracy: 0.7145 - precision: 0.7058 - recall: 0.5993 - val_loss: 0.5685 - val_accuracy: 0.7104 - val_precision: 0.7342 - val_recall: 0.5023\n",
      "Epoch 9/30\n",
      "191/191 [==============================] - 16s 82ms/step - loss: 0.5473 - accuracy: 0.7119 - precision: 0.6906 - recall: 0.5981 - val_loss: 0.5691 - val_accuracy: 0.7131 - val_precision: 0.6641 - val_recall: 0.6610\n",
      "Epoch 10/30\n",
      "191/191 [==============================] - 16s 81ms/step - loss: 0.5466 - accuracy: 0.7217 - precision: 0.7010 - recall: 0.6138 - val_loss: 0.5674 - val_accuracy: 0.7150 - val_precision: 0.6693 - val_recall: 0.6549\n",
      "Epoch 11/30\n",
      "191/191 [==============================] - 15s 80ms/step - loss: 0.5494 - accuracy: 0.7217 - precision: 0.7048 - recall: 0.6043 - val_loss: 0.5656 - val_accuracy: 0.7137 - val_precision: 0.7152 - val_recall: 0.5455\n",
      "Epoch 12/30\n",
      "191/191 [==============================] - 15s 80ms/step - loss: 0.5463 - accuracy: 0.7296 - precision: 0.7254 - recall: 0.5866 - val_loss: 0.5656 - val_accuracy: 0.7039 - val_precision: 0.7181 - val_recall: 0.5023\n",
      "Epoch 13/30\n",
      "191/191 [==============================] - 15s 79ms/step - loss: 0.5437 - accuracy: 0.7270 - precision: 0.7286 - recall: 0.5704 - val_loss: 0.5623 - val_accuracy: 0.7052 - val_precision: 0.6887 - val_recall: 0.5624\n",
      "Epoch 14/30\n",
      "191/191 [==============================] - 15s 80ms/step - loss: 0.5434 - accuracy: 0.7333 - precision: 0.7357 - recall: 0.5971 - val_loss: 0.5635 - val_accuracy: 0.7104 - val_precision: 0.6837 - val_recall: 0.5963\n",
      "Epoch 15/30\n",
      "191/191 [==============================] - 16s 83ms/step - loss: 0.5466 - accuracy: 0.7227 - precision: 0.7075 - recall: 0.6183 - val_loss: 0.5843 - val_accuracy: 0.6993 - val_precision: 0.6314 - val_recall: 0.7072\n",
      "Epoch 16/30\n",
      "191/191 [==============================] - 16s 84ms/step - loss: 0.5476 - accuracy: 0.7242 - precision: 0.6973 - recall: 0.5802 - val_loss: 0.5614 - val_accuracy: 0.7104 - val_precision: 0.6877 - val_recall: 0.5871\n",
      "Epoch 17/30\n",
      "191/191 [==============================] - 16s 82ms/step - loss: 0.5453 - accuracy: 0.7186 - precision: 0.7060 - recall: 0.5921 - val_loss: 0.5694 - val_accuracy: 0.7157 - val_precision: 0.6862 - val_recall: 0.6133\n",
      "Epoch 18/30\n",
      "191/191 [==============================] - 16s 84ms/step - loss: 0.5475 - accuracy: 0.7178 - precision: 0.7123 - recall: 0.5883 - val_loss: 0.5612 - val_accuracy: 0.7118 - val_precision: 0.7126 - val_recall: 0.5424\n",
      "Epoch 19/30\n",
      "191/191 [==============================] - 16s 86ms/step - loss: 0.5380 - accuracy: 0.7354 - precision: 0.7343 - recall: 0.6136 - val_loss: 0.5627 - val_accuracy: 0.7118 - val_precision: 0.6895 - val_recall: 0.5886\n",
      "Epoch 20/30\n",
      "191/191 [==============================] - 17s 87ms/step - loss: 0.5539 - accuracy: 0.7164 - precision: 0.7161 - recall: 0.5915 - val_loss: 0.5804 - val_accuracy: 0.7111 - val_precision: 0.8138 - val_recall: 0.4176\n",
      "Epoch 21/30\n",
      "191/191 [==============================] - 17s 87ms/step - loss: 0.5352 - accuracy: 0.7334 - precision: 0.7276 - recall: 0.5940 - val_loss: 0.5616 - val_accuracy: 0.7150 - val_precision: 0.6883 - val_recall: 0.6055\n",
      "Epoch 22/30\n",
      "191/191 [==============================] - 16s 82ms/step - loss: 0.5403 - accuracy: 0.7271 - precision: 0.7155 - recall: 0.6013 - val_loss: 0.5675 - val_accuracy: 0.7111 - val_precision: 0.6699 - val_recall: 0.6348\n",
      "Epoch 23/30\n",
      "191/191 [==============================] - 16s 83ms/step - loss: 0.5342 - accuracy: 0.7234 - precision: 0.7003 - recall: 0.6130 - val_loss: 0.5615 - val_accuracy: 0.7124 - val_precision: 0.7259 - val_recall: 0.5223\n",
      "Epoch 24/30\n",
      "191/191 [==============================] - 15s 78ms/step - loss: 0.5436 - accuracy: 0.7253 - precision: 0.7266 - recall: 0.5736 - val_loss: 0.5625 - val_accuracy: 0.7150 - val_precision: 0.6825 - val_recall: 0.6194\n",
      "Epoch 25/30\n",
      "191/191 [==============================] - 15s 79ms/step - loss: 0.5422 - accuracy: 0.7297 - precision: 0.7253 - recall: 0.6019 - val_loss: 0.5615 - val_accuracy: 0.7131 - val_precision: 0.6873 - val_recall: 0.5994\n",
      "Epoch 26/30\n",
      "191/191 [==============================] - 15s 79ms/step - loss: 0.5418 - accuracy: 0.7252 - precision: 0.7120 - recall: 0.6240 - val_loss: 0.5640 - val_accuracy: 0.7163 - val_precision: 0.6698 - val_recall: 0.6595\n",
      "Epoch 27/30\n",
      "191/191 [==============================] - 15s 80ms/step - loss: 0.5329 - accuracy: 0.7325 - precision: 0.7249 - recall: 0.6089 - val_loss: 0.5642 - val_accuracy: 0.7058 - val_precision: 0.6558 - val_recall: 0.6518\n",
      "Epoch 28/30\n",
      "191/191 [==============================] - 16s 83ms/step - loss: 0.5348 - accuracy: 0.7396 - precision: 0.7335 - recall: 0.6245 - val_loss: 0.5591 - val_accuracy: 0.7209 - val_precision: 0.7082 - val_recall: 0.5871\n",
      "Epoch 29/30\n",
      "191/191 [==============================] - 16s 82ms/step - loss: 0.5340 - accuracy: 0.7336 - precision: 0.7274 - recall: 0.6214 - val_loss: 0.5609 - val_accuracy: 0.7216 - val_precision: 0.7320 - val_recall: 0.5470\n",
      "Epoch 30/30\n",
      "191/191 [==============================] - 15s 80ms/step - loss: 0.5307 - accuracy: 0.7381 - precision: 0.7539 - recall: 0.5826 - val_loss: 0.5601 - val_accuracy: 0.7203 - val_precision: 0.7084 - val_recall: 0.5840\n"
     ]
    }
   ],
   "source": [
    "#embedding = tf.keras.layers.Embedding(22702, 200\n",
    "                                      #input_length = 40\n",
    "                                    # )\n",
    "\n",
    "#num_words = len(tokenizer.word_index) + 1\n",
    "#embedding_matrix = np.zeros((num_words, 100))\n",
    "\n",
    "embedding1 = tf.keras.layers.Embedding(\n",
    "    len(word_index) + 1,\n",
    "    200,\n",
    "    trainable = True\n",
    ")\n",
    "\n",
    "model1 = tf.keras.Sequential([embedding1,\n",
    "                              tf.keras.layers.Bidirectional(\n",
    "                              tf.keras.layers.LSTM(128, dropout = 0.2)),\n",
    "                              tf.keras.layers.Dense(1, activation = 'sigmoid')\n",
    "                             ])\n",
    "\n",
    "#model1.summary()\n",
    "\n",
    "model1.compile(\n",
    "    loss=tf.keras.losses.BinaryCrossentropy(from_logits=True),\n",
    "    optimizer=tf.keras.optimizers.Adam(0.0001),\n",
    "    metrics=['accuracy', 'Precision', 'Recall']\n",
    ")\n",
    "\n",
    "callbacks = [\n",
    "    tf.keras.callbacks.ReduceLROnPlateau(monitor='loss', patience=5, verbose=1),\n",
    "    tf.keras.callbacks.EarlyStopping(monitor='loss', patience=5, verbose=1),\n",
    "]\n",
    "\n",
    "history = model1.fit(X_train, y_train, \n",
    "                     validation_data = (X_test, y_test), \n",
    "                     epochs = 30,\n",
    "                    callbacks = callbacks)\n"
   ]
  },
  {
   "cell_type": "code",
   "execution_count": 13,
   "id": "e46328b9",
   "metadata": {},
   "outputs": [
    {
     "data": {
      "text/plain": [
       "array([0, 0, 0, ..., 0, 1, 0])"
      ]
     },
     "execution_count": 13,
     "metadata": {},
     "output_type": "execute_result"
    }
   ],
   "source": [
    "pred1 = model1.predict(pad2)\n",
    "pred12= np.concatenate(pred1).round().astype(int)\n",
    "pred12"
   ]
  },
  {
   "cell_type": "code",
   "execution_count": 14,
   "id": "722a97a2",
   "metadata": {},
   "outputs": [],
   "source": [
    "sub1 = pd.DataFrame(data={'target': pred12}, index=test['id'])\n",
    "sub1.index = sub1.index.rename('id')\n",
    "sub1.to_csv('sub1.csv')"
   ]
  },
  {
   "attachments": {
    "Screen%20Shot%202022-05-29%20at%201.41.16%20PM.png": {
     "image/png": "[encoded data removed]"
    }
   },
   "cell_type": "markdown",
   "id": "67ce01f8",
   "metadata": {},
   "source": [
    "![Screen%20Shot%202022-05-29%20at%201.41.16%20PM.png](attachment:Screen%20Shot%202022-05-29%20at%201.41.16%20PM.png)"
   ]
  },
  {
   "cell_type": "markdown",
   "id": "26fa457b",
   "metadata": {},
   "source": [
    "#### Model --RNN 2"
   ]
  },
  {
   "cell_type": "code",
   "execution_count": 53,
   "id": "04c501a2",
   "metadata": {
    "scrolled": true
   },
   "outputs": [
    {
     "name": "stdout",
     "output_type": "stream",
     "text": [
      "Epoch 1/30\n",
      "WARNING:tensorflow:Model was constructed with shape (None, 100) for input KerasTensor(type_spec=TensorSpec(shape=(None, 100), dtype=tf.float32, name='embedding_28_input'), name='embedding_28_input', description=\"created by layer 'embedding_28_input'\"), but it was called on an input with incompatible shape (None, 33).\n",
      "WARNING:tensorflow:Model was constructed with shape (None, 100) for input KerasTensor(type_spec=TensorSpec(shape=(None, 100), dtype=tf.float32, name='embedding_28_input'), name='embedding_28_input', description=\"created by layer 'embedding_28_input'\"), but it was called on an input with incompatible shape (None, 33).\n",
      "191/191 [==============================] - 18s 85ms/step - loss: 0.6748 - accuracy: 0.5700 - precision: 0.5185 - recall: 0.1606\n",
      "Epoch 2/30\n",
      "191/191 [==============================] - 16s 83ms/step - loss: 0.5719 - accuracy: 0.7056 - precision: 0.6771 - recall: 0.6109\n",
      "Epoch 3/30\n",
      "191/191 [==============================] - 16s 86ms/step - loss: 0.5624 - accuracy: 0.7170 - precision: 0.6992 - recall: 0.5971\n",
      "Epoch 4/30\n",
      "191/191 [==============================] - 16s 84ms/step - loss: 0.5712 - accuracy: 0.6957 - precision: 0.6845 - recall: 0.5535\n",
      "Epoch 5/30\n",
      "191/191 [==============================] - 16s 85ms/step - loss: 0.5577 - accuracy: 0.7148 - precision: 0.6939 - recall: 0.5812\n",
      "Epoch 6/30\n",
      "191/191 [==============================] - 16s 84ms/step - loss: 0.5534 - accuracy: 0.7151 - precision: 0.7012 - recall: 0.6045\n",
      "Epoch 7/30\n",
      "191/191 [==============================] - 16s 84ms/step - loss: 0.5519 - accuracy: 0.7176 - precision: 0.7114 - recall: 0.6128\n",
      "Epoch 8/30\n",
      "191/191 [==============================] - 17s 88ms/step - loss: 0.5505 - accuracy: 0.7262 - precision: 0.7224 - recall: 0.6064\n",
      "Epoch 9/30\n",
      "191/191 [==============================] - 18s 92ms/step - loss: 0.5547 - accuracy: 0.7184 - precision: 0.7062 - recall: 0.5918\n",
      "Epoch 10/30\n",
      "191/191 [==============================] - 17s 88ms/step - loss: 0.5618 - accuracy: 0.7097 - precision: 0.7050 - recall: 0.5832\n",
      "Epoch 11/30\n",
      "191/191 [==============================] - 16s 86ms/step - loss: 0.5509 - accuracy: 0.7189 - precision: 0.6959 - recall: 0.5795\n",
      "Epoch 12/30\n",
      "191/191 [==============================] - 16s 84ms/step - loss: 0.5555 - accuracy: 0.7149 - precision: 0.6999 - recall: 0.5879\n",
      "Epoch 13/30\n",
      "191/191 [==============================] - 17s 87ms/step - loss: 0.5549 - accuracy: 0.7087 - precision: 0.6979 - recall: 0.5862\n",
      "Epoch 14/30\n",
      "191/191 [==============================] - 17s 88ms/step - loss: 0.5557 - accuracy: 0.7186 - precision: 0.7232 - recall: 0.5834\n",
      "Epoch 15/30\n",
      "191/191 [==============================] - 17s 88ms/step - loss: 0.5478 - accuracy: 0.7213 - precision: 0.7060 - recall: 0.6031\n",
      "Epoch 16/30\n",
      "191/191 [==============================] - 17s 88ms/step - loss: 0.5532 - accuracy: 0.7155 - precision: 0.7204 - recall: 0.5960\n",
      "Epoch 17/30\n",
      "191/191 [==============================] - 16s 86ms/step - loss: 0.5506 - accuracy: 0.7178 - precision: 0.6939 - recall: 0.5851\n",
      "Epoch 18/30\n",
      "191/191 [==============================] - 16s 85ms/step - loss: 0.5431 - accuracy: 0.7255 - precision: 0.7125 - recall: 0.6052\n",
      "Epoch 19/30\n",
      "191/191 [==============================] - 17s 89ms/step - loss: 0.5577 - accuracy: 0.7110 - precision: 0.6927 - recall: 0.5986\n",
      "Epoch 20/30\n",
      "191/191 [==============================] - 17s 88ms/step - loss: 0.5479 - accuracy: 0.7224 - precision: 0.7050 - recall: 0.6049\n",
      "Epoch 21/30\n",
      "191/191 [==============================] - 16s 85ms/step - loss: 0.5491 - accuracy: 0.7149 - precision: 0.7009 - recall: 0.5777\n",
      "Epoch 22/30\n",
      "191/191 [==============================] - 16s 85ms/step - loss: 0.5426 - accuracy: 0.7254 - precision: 0.7142 - recall: 0.5964\n",
      "Epoch 23/30\n",
      "191/191 [==============================] - 17s 87ms/step - loss: 0.5431 - accuracy: 0.7295 - precision: 0.7200 - recall: 0.6048\n",
      "Epoch 24/30\n",
      "191/191 [==============================] - 16s 86ms/step - loss: 0.5460 - accuracy: 0.7268 - precision: 0.7205 - recall: 0.6121\n",
      "Epoch 25/30\n",
      "191/191 [==============================] - 16s 85ms/step - loss: 0.5446 - accuracy: 0.7256 - precision: 0.7117 - recall: 0.6234\n",
      "Epoch 26/30\n",
      "191/191 [==============================] - 16s 86ms/step - loss: 0.5381 - accuracy: 0.7328 - precision: 0.7321 - recall: 0.6052\n",
      "Epoch 27/30\n",
      "191/191 [==============================] - 16s 85ms/step - loss: 0.5440 - accuracy: 0.7257 - precision: 0.7110 - recall: 0.5953\n",
      "Epoch 28/30\n",
      "191/191 [==============================] - 16s 85ms/step - loss: 0.5442 - accuracy: 0.7216 - precision: 0.7108 - recall: 0.5951\n",
      "Epoch 29/30\n",
      "191/191 [==============================] - 16s 85ms/step - loss: 0.5253 - accuracy: 0.7413 - precision: 0.7342 - recall: 0.6319\n",
      "Epoch 30/30\n",
      "191/191 [==============================] - 16s 84ms/step - loss: 0.5266 - accuracy: 0.7304 - precision: 0.7128 - recall: 0.6149\n"
     ]
    }
   ],
   "source": [
    "num_words = len(tokenizer.word_index) + 1\n",
    "embedding_matrix = np.zeros((num_words, 200))\n",
    "\n",
    "embedding2 = tf.keras.layers.Embedding(\n",
    "    len(word_index) + 1,\n",
    "    200,\n",
    "    input_length = 100,\n",
    "    weights=[embedding_matrix],\n",
    "    trainable = True\n",
    ")\n",
    "\n",
    "model2 = tf.keras.Sequential([embedding2,\n",
    "                              tf.keras.layers.LSTM(100, return_sequences=True),\n",
    "                              tf.keras.layers.LSTM(200),\n",
    "                              tf.keras.layers.Dense(1, activation = 'sigmoid')\n",
    "                             ])\n",
    "\n",
    "#model1.summary()\n",
    "\n",
    "model2.compile(\n",
    "    loss=tf.keras.losses.BinaryCrossentropy(),\n",
    "    optimizer=tf.keras.optimizers.Adam(0.0001),\n",
    "    metrics=['accuracy', 'Precision', 'Recall']\n",
    ")\n",
    "\n",
    "callbacks = [\n",
    "    tf.keras.callbacks.ReduceLROnPlateau(monitor='loss', patience=5, verbose=1),\n",
    "    tf.keras.callbacks.EarlyStopping(monitor='loss', patience=5, verbose=1),\n",
    "]\n",
    "\n",
    "#Y_train = np.asarray(y_train).astype('float32').reshape((-1,1))\n",
    "#Y_test = np.asarray(y_test).astype('float32').reshape((-1,1))\n",
    "history = model2.fit(X_train, y_train, \n",
    "                     #validation_data = (X_test, y_test), \n",
    "                     epochs = 30,\n",
    "                    callbacks = callbacks)\n"
   ]
  },
  {
   "cell_type": "code",
   "execution_count": 56,
   "id": "27754d07",
   "metadata": {},
   "outputs": [
    {
     "data": {
      "text/plain": [
       "array([0, 0, 0, ..., 0, 1, 0])"
      ]
     },
     "execution_count": 56,
     "metadata": {},
     "output_type": "execute_result"
    }
   ],
   "source": [
    "pred2 = model2.predict(pad2)\n",
    "pred22= np.concatenate(pred2).round().astype(int)\n",
    "pred22\n",
    "sub2 = pd.DataFrame(data={'target': pred22}, index=test['id'])\n",
    "sub2.index = sub2.index.rename('id')\n",
    "sub2.to_csv('sub2.csv')"
   ]
  },
  {
   "cell_type": "code",
   "execution_count": null,
   "id": "fc2d6975",
   "metadata": {},
   "outputs": [],
   "source": [
    "model2.summary()\n",
    "model1.summary()"
   ]
  }
 ],
 "metadata": {
  "kernelspec": {
   "display_name": "Python 3",
   "language": "python",
   "name": "python3"
  },
  "language_info": {
   "codemirror_mode": {
    "name": "ipython",
    "version": 3
   },
   "file_extension": ".py",
   "mimetype": "text/x-python",
   "name": "python",
   "nbconvert_exporter": "python",
   "pygments_lexer": "ipython3",
   "version": "3.8.8"
  }
 },
 "nbformat": 4,
 "nbformat_minor": 5
}
